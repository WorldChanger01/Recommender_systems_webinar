{
 "cells": [
  {
   "cell_type": "markdown",
   "metadata": {},
   "source": [
    "<h1><center>Webinar content:</center></h1>\n",
    "\n",
    "The objective of the webinar is to offer an introduction to the main types of recommender systems and the algorithms behind them. As result, I'm not going to focus on explaining every single line of code rather I'll only be focusing on the parts that are central to understanding the concepts behind recommender systems. I'll also make the notebook public to everyone who has signed up for the webinar so you'll be able to go over my code and test it out for yourself. I also left a lot of comments and notes in the notebook which will hopefully make it easier for you to test the out code for yourself.\n",
    "\n",
    "The webinar is structured into two main parts. In the first part I'll go over some important concepts behind recommender systems while in the second part I'm going show you how to implement them in Python:\n",
    "\n",
    "    1.) Recommender systems in theory\n",
    "        - Types of recommender systems\n",
    "        - Recommandations as prediction problems\n",
    "        - Evaluating recommandations\n",
    "        \n",
    "    2.) Recommender systems in practice\n",
    "        - Data-preprocessing\n",
    "        - Content-based filtering\n",
    "        - Collaborative filtering\n",
    "        \n",
    "My details:\n",
    "Linkedin: https://www.linkedin.com/in/andpal/\n",
    "Email: andras.palfi@bigstep.com"
   ]
  },
  {
   "cell_type": "markdown",
   "metadata": {},
   "source": [
    "_Sidenote: If you are new to Jupyter Notebooks here is good tutorial one to setup a Jupyter Notebook on your PC:     \n",
    "https://www.dataquest.io/blog/jupyter-notebook-tutorial/_"
   ]
  },
  {
   "cell_type": "markdown",
   "metadata": {},
   "source": [
    "<h1><center>Recommender Systems</center></h1>\n",
    "\n",
    "If you've ever found yourself browsing the movie catalogue of Netflix, spending hours to just find something interesting to watch, then you've faced the exact same problem recommender systems are trying to solve: __helping us decide what to buy or consume.__\n",
    "\n",
    "<img src=\"netflix.png\" style=\"width: 600px;\"/>\n",
    "\n",
    "Now the big question is why is deciding what to purchase so difficult? First of all, often times we're incapable to convey our own tastes into words. For example, although we know what movies we liked in the past we don't fully understand the factors that made us like those movies. Also, there are times when we don't even know what we need or what we like. As a result, in many cases we're unable to translate our needs into specific products or items to buy or consume. Second of all, these factors are also exacerbated by a phenomenon called choice overload. It turns out, when were're faced with many options, as in the case of Netlix, we find it much harder to make a deicison than when we're faced with only a few.\n",
    "\n",
    "This is where __recommender systems__ come into play, as they intend to exploit the inefficiencies in our decision making process by providing us with relevant product recommendations. Take for example Amazon's recommender system: \n",
    "\n",
    "<img src=\"amazon_recommender_system_1.png\" style=\"width: 600px;\"/>"
   ]
  },
  {
   "cell_type": "code",
   "execution_count": 47,
   "metadata": {},
   "outputs": [
    {
     "name": "stdout",
     "output_type": "stream",
     "text": [
      "/opt/notebooks/Projects/Tutorials/Recommender_systems\r\n"
     ]
    }
   ],
   "source": [
    "!pwd"
   ]
  },
  {
   "cell_type": "markdown",
   "metadata": {},
   "source": [
    "<h1><center>1.) Recommender systems in theory:</center></h1>\n",
    "\n",
    "## 1.) Types of recommender systems:\n",
    "\n",
    "Usually, the main purpose of a recommender system is to increase sales or consumption of a product. Of course this can be achieved by providing a user with __relevant__ product recommandations. Relevant meaning products which the user finds both interesting and useful enough to buy or consume. There are two main approaches to building these types of a recommender  systems: __Collaborative Filtering__ and __Content-based Filtering__.\n",
    "\n",
    "### 1.1.) Collaborative filtering:\n",
    "\n",
    "> Collaborative filtering algorithms work on a very basic principle: people tend to like products similar to other products they have liked or purchased in the past and also products that people with similar tastes have liked or purchased. As a result, collaborative filtering approaches employ the preferences of users to calculate similarities between users or products, and then use these similarities to make recommendations. For example, if my preferences are similar to that of another costumer it might be a good idea to recommend me products that the other costumer has bought and liked but I haven't. \n",
    "\n",
    "### 1.2.) Content-based filtering:\n",
    "\n",
    "> On the other hand content-based filtering algortihms rely on calculating similarities between products by looking at their attributes. For example, in the case a movie attributes can be considered the movie genre, the director, the cast or even the year the movie was released in. And the way these attributes are used to provide recommendations is somewhat similar collaborative filtering: items that a user has positively rated are collected and other similar items to these examples are recommended for him. For example, if I watched the movie The Departed and gave it five stars it might be a good idea to recommend me movies which belong to the same genre or have the same director or the same cast.  \n",
    "\n",
    "An important concept both methods employ are user preferences. There are two main methods though which users can express their preferences: __implicit feedback__ or __explicit feedback__. In the case of explicit feedback, users manually provide feedback for the products they have consumed. For example they give a rating for a movie they have watched. On the other hand, implicit feedback is gathered from the interaction users had with specific products. For example, if a user bought a specific item or clicked in a specific product, we can consider that interaction as positive feedback. The first important concept to remember is that when building recommender systems we are always dealing with user-item interaction matrices:"
   ]
  },
  {
   "cell_type": "markdown",
   "metadata": {},
   "source": [
    "<img src=\"Recommender-1.jpg\"/>"
   ]
  },
  {
   "cell_type": "markdown",
   "metadata": {},
   "source": [
    "Another important concept is that of similarities. Both content-based methods and collaborative filtering methods measure similarities between users or items to make recommandations. In matematical terms, these similarities can be expressed as measures of similarity or distance between two vectors. As a result, we need to express users or items as vectors:"
   ]
  },
  {
   "cell_type": "markdown",
   "metadata": {},
   "source": [
    "<img src=\"Recommender-2.jpg\"/>"
   ]
  },
  {
   "cell_type": "markdown",
   "metadata": {},
   "source": [
    "Two common measures which could help us see how much alike two users or items are would be the Eclidean Distance and Cosine Similarity:\n",
    "\n",
    "$$ \\textbf {Cosine Similarity} = sim(p, q) = cos(\\theta{}) = \\frac{\\textbf{p} \\dot{} \\textbf{q}}{\\| \\textbf{p}\\| \\| \\textbf{q}\\|} = \\sum_{i} \\frac{p_{i}q_{i}}{\\sqrt{\\sum\\limits_{i} p_{i}^2} \\sqrt{\\sum\\limits_{i} q_{i}^2} } $$\n",
    "\n",
    "$$ \\textbf {Euclidean Distance} =  dist(p, q) = \\sqrt{\\sum_{i=1}^n (p_i-q_i)^2} = \\sqrt{(p_1-q_1)^2+(p_2-q_2)^2 + ... + (p_i-q_i)^2 } $$"
   ]
  },
  {
   "cell_type": "markdown",
   "metadata": {},
   "source": [
    "<img src=\"Recommender-3.jpg\"/>"
   ]
  },
  {
   "cell_type": "markdown",
   "metadata": {},
   "source": [
    "## 2.) Recommandations as prediction problems:\n",
    "\n",
    "There are two approaches to formulating recommandations as prediction problems: \n",
    "\n",
    "> __Rating prediction:__ The first approach is to predict the rating value for a user-item combination. It is assumed that training data is available, indicating user preferences for items. For m users and n items, this corresponds to an incomplete m × n matrix, where the specified (or observed) values are used for training. The missing (or unobserved) values are predicted using this training model. This problem is also referred to as the matrix completion problem because we have an incompletely specified matrix of values, and the remaining values are predicted by the learning algorithm.\n",
    "\n",
    "> __Top-k ranking:__ In practice, it is not necessary to predict the ratings of users for specific items in order to make recommendations to users. Rather, a merchant may wish to recommend the top-k items for a particular user. This problem is also referred to as the top-k recommendation problem, and it is the ranking formulation of the recommendation problem.\n",
    "\n",
    "In the second case, the absolute values of the predicted ratings are not important. The first formulation is more general, because the solutions to the second case can be derived by solving the first formulation for various user-item combinations and then ranking the predictions. However, in many cases, it is easier and more natural to design methods for solving the ranking version of the problem directly.\n",
    "\n",
    "Source: http://www.configworks.com/mz/handout_recsys_sac2010.pdf"
   ]
  },
  {
   "cell_type": "markdown",
   "metadata": {},
   "source": [
    "## 3.) Evaluating recommender systems:\n",
    "\n",
    "There are two main environments through which recommender systems can be evaluated: __online__ and __offline__. The best way to measure the quality of a recommendation is to actually see how a user reacts to it. This can be only done when a recommender system is already in production. However, before we can put a system into production we need a method to evaluate it offline. For this, we are going to be using RMSE:\n",
    "\n",
    "$$ RMSE = \\sqrt{\\frac{1}{n}\\Sigma_{i=1}^{n}{\\Big({predicted - actual}{}\\Big)^2}} $$\n",
    "\n",
    "_Sidenote: Evaluating a recommender system is a complex problem. We're only using one metric for simplicity but in real life you would probably use more. Additional resources: https://www.microsoft.com/en-us/research/wp-content/uploads/2016/02/EvaluationMetrics.TR_.pdf_"
   ]
  },
  {
   "cell_type": "markdown",
   "metadata": {},
   "source": [
    "<h1><center> 2.) Recommender systems in practice:</center></h1>\n",
    "\n",
    "Now that we know the ideas recommender systems are based upon lets see how they can be implemented in practice. In order to do this we're going to download a popular data set ususally used in tutorials. If youre interested in other data sources for recommender systems a great collection of them can be found here: https://cseweb.ucsd.edu/~jmcauley/datasets.html"
   ]
  },
  {
   "cell_type": "markdown",
   "metadata": {},
   "source": [
    "The data set comes from MovieLens, a movie recommendation service, and it contains 100836 ratings across 9742 movies. The ratings were given by 610 users between 1996 and 2018 with each user providing a minimum of 20 ratings. The data also contains movie attributes like title, genre, and time of publication. Source: https://grouplens.org/datasets/movielens/. If you're using Linux, the data set can be downloaded with the following commands:"
   ]
  },
  {
   "cell_type": "code",
   "execution_count": 2,
   "metadata": {},
   "outputs": [
    {
     "name": "stdout",
     "output_type": "stream",
     "text": [
      "Archive:  ml-latest-small.zip\n"
     ]
    },
    {
     "name": "stderr",
     "output_type": "stream",
     "text": [
      "  % Total    % Received % Xferd  Average Speed   Time    Time     Time  Current\n",
      "                                 Dload  Upload   Total   Spent    Left  Speed\n",
      "\r",
      "  0     0    0     0    0     0      0      0 --:--:-- --:--:-- --:--:--     0\r",
      " 21  955k   21  206k    0     0  2170k      0 --:--:-- --:--:-- --:--:-- 2170k\r",
      "100  955k  100  955k    0     0  7894k      0 --:--:-- --:--:-- --:--:-- 7830k\n",
      "replace ml-latest-small/links.csv? [y]es, [n]o, [A]ll, [N]one, [r]ename: error:  invalid response [head ml-l]\n",
      "replace ml-latest-small/links.csv? [y]es, [n]o, [A]ll, [N]one, [r]ename: error:  invalid response [atest-sma]\n",
      "replace ml-latest-small/links.csv? [y]es, [n]o, [A]ll, [N]one, [r]ename: error:  invalid response [ll/rating]\n",
      "replace ml-latest-small/links.csv? [y]es, [n]o, [A]ll, [N]one, [r]ename: error:  invalid response [s.csv]\n",
      "replace ml-latest-small/links.csv? [y]es, [n]o, [A]ll, [N]one, [r]ename:  NULL\n",
      "(EOF or read error, treating as \"[N]one\" ...)\n"
     ]
    }
   ],
   "source": [
    "%%bash\n",
    "curl -O http://files.grouplens.org/datasets/movielens/ml-latest-small.zip\n",
    "unzip ml-latest-small.zip"
   ]
  },
  {
   "cell_type": "markdown",
   "metadata": {},
   "source": [
    "Otherwise, you can download the data set manually using the following link: http://files.grouplens.org/datasets/movielens/ml-latest-small.zip"
   ]
  },
  {
   "cell_type": "code",
   "execution_count": 163,
   "metadata": {},
   "outputs": [
    {
     "name": "stdout",
     "output_type": "stream",
     "text": [
      "links.csv  movies.csv  ratings.csv  README.txt\ttags.csv\r\n"
     ]
    }
   ],
   "source": [
    "!ls ml-latest-small"
   ]
  },
  {
   "cell_type": "markdown",
   "metadata": {},
   "source": [
    "The data set contains 4 .csv files of which we will only use 3:\n",
    "- __movies.csv__ - Movie names and genres\n",
    "- __ratings.csv__ - Ratings given by users\n",
    "- __links.csv__ - Unique links for retrieving IMDB and themoviedb.org data"
   ]
  },
  {
   "cell_type": "markdown",
   "metadata": {},
   "source": [
    "## Data-preprocessing"
   ]
  },
  {
   "cell_type": "code",
   "execution_count": 1,
   "metadata": {},
   "outputs": [
    {
     "data": {
      "text/html": [
       "<div>\n",
       "<style scoped>\n",
       "    .dataframe tbody tr th:only-of-type {\n",
       "        vertical-align: middle;\n",
       "    }\n",
       "\n",
       "    .dataframe tbody tr th {\n",
       "        vertical-align: top;\n",
       "    }\n",
       "\n",
       "    .dataframe thead th {\n",
       "        text-align: right;\n",
       "    }\n",
       "</style>\n",
       "<table border=\"1\" class=\"dataframe\">\n",
       "  <thead>\n",
       "    <tr style=\"text-align: right;\">\n",
       "      <th></th>\n",
       "      <th>movieId</th>\n",
       "      <th>userId</th>\n",
       "      <th>rating</th>\n",
       "      <th>timestamp</th>\n",
       "      <th>imdbId</th>\n",
       "      <th>tmdbId</th>\n",
       "      <th>title</th>\n",
       "      <th>genres</th>\n",
       "    </tr>\n",
       "  </thead>\n",
       "  <tbody>\n",
       "    <tr>\n",
       "      <th>0</th>\n",
       "      <td>1</td>\n",
       "      <td>1</td>\n",
       "      <td>4.0</td>\n",
       "      <td>964982703</td>\n",
       "      <td>114709</td>\n",
       "      <td>862.0</td>\n",
       "      <td>Toy Story (1995)</td>\n",
       "      <td>Adventure|Animation|Children|Comedy|Fantasy</td>\n",
       "    </tr>\n",
       "    <tr>\n",
       "      <th>1</th>\n",
       "      <td>3</td>\n",
       "      <td>1</td>\n",
       "      <td>4.0</td>\n",
       "      <td>964981247</td>\n",
       "      <td>113228</td>\n",
       "      <td>15602.0</td>\n",
       "      <td>Grumpier Old Men (1995)</td>\n",
       "      <td>Comedy|Romance</td>\n",
       "    </tr>\n",
       "    <tr>\n",
       "      <th>2</th>\n",
       "      <td>6</td>\n",
       "      <td>1</td>\n",
       "      <td>4.0</td>\n",
       "      <td>964982224</td>\n",
       "      <td>113277</td>\n",
       "      <td>949.0</td>\n",
       "      <td>Heat (1995)</td>\n",
       "      <td>Action|Crime|Thriller</td>\n",
       "    </tr>\n",
       "    <tr>\n",
       "      <th>3</th>\n",
       "      <td>47</td>\n",
       "      <td>1</td>\n",
       "      <td>5.0</td>\n",
       "      <td>964983815</td>\n",
       "      <td>114369</td>\n",
       "      <td>807.0</td>\n",
       "      <td>Seven (a.k.a. Se7en) (1995)</td>\n",
       "      <td>Mystery|Thriller</td>\n",
       "    </tr>\n",
       "    <tr>\n",
       "      <th>4</th>\n",
       "      <td>50</td>\n",
       "      <td>1</td>\n",
       "      <td>5.0</td>\n",
       "      <td>964982931</td>\n",
       "      <td>114814</td>\n",
       "      <td>629.0</td>\n",
       "      <td>Usual Suspects, The (1995)</td>\n",
       "      <td>Crime|Mystery|Thriller</td>\n",
       "    </tr>\n",
       "    <tr>\n",
       "      <th>5</th>\n",
       "      <td>70</td>\n",
       "      <td>1</td>\n",
       "      <td>3.0</td>\n",
       "      <td>964982400</td>\n",
       "      <td>116367</td>\n",
       "      <td>755.0</td>\n",
       "      <td>From Dusk Till Dawn (1996)</td>\n",
       "      <td>Action|Comedy|Horror|Thriller</td>\n",
       "    </tr>\n",
       "    <tr>\n",
       "      <th>6</th>\n",
       "      <td>101</td>\n",
       "      <td>1</td>\n",
       "      <td>5.0</td>\n",
       "      <td>964980868</td>\n",
       "      <td>115734</td>\n",
       "      <td>13685.0</td>\n",
       "      <td>Bottle Rocket (1996)</td>\n",
       "      <td>Adventure|Comedy|Crime|Romance</td>\n",
       "    </tr>\n",
       "    <tr>\n",
       "      <th>7</th>\n",
       "      <td>110</td>\n",
       "      <td>1</td>\n",
       "      <td>4.0</td>\n",
       "      <td>964982176</td>\n",
       "      <td>112573</td>\n",
       "      <td>197.0</td>\n",
       "      <td>Braveheart (1995)</td>\n",
       "      <td>Action|Drama|War</td>\n",
       "    </tr>\n",
       "    <tr>\n",
       "      <th>8</th>\n",
       "      <td>151</td>\n",
       "      <td>1</td>\n",
       "      <td>5.0</td>\n",
       "      <td>964984041</td>\n",
       "      <td>114287</td>\n",
       "      <td>11780.0</td>\n",
       "      <td>Rob Roy (1995)</td>\n",
       "      <td>Action|Drama|Romance|War</td>\n",
       "    </tr>\n",
       "    <tr>\n",
       "      <th>9</th>\n",
       "      <td>157</td>\n",
       "      <td>1</td>\n",
       "      <td>5.0</td>\n",
       "      <td>964984100</td>\n",
       "      <td>109370</td>\n",
       "      <td>1775.0</td>\n",
       "      <td>Canadian Bacon (1995)</td>\n",
       "      <td>Comedy|War</td>\n",
       "    </tr>\n",
       "  </tbody>\n",
       "</table>\n",
       "</div>"
      ],
      "text/plain": [
       "   movieId  userId  rating  timestamp  imdbId   tmdbId  \\\n",
       "0        1       1     4.0  964982703  114709    862.0   \n",
       "1        3       1     4.0  964981247  113228  15602.0   \n",
       "2        6       1     4.0  964982224  113277    949.0   \n",
       "3       47       1     5.0  964983815  114369    807.0   \n",
       "4       50       1     5.0  964982931  114814    629.0   \n",
       "5       70       1     3.0  964982400  116367    755.0   \n",
       "6      101       1     5.0  964980868  115734  13685.0   \n",
       "7      110       1     4.0  964982176  112573    197.0   \n",
       "8      151       1     5.0  964984041  114287  11780.0   \n",
       "9      157       1     5.0  964984100  109370   1775.0   \n",
       "\n",
       "                         title                                       genres  \n",
       "0             Toy Story (1995)  Adventure|Animation|Children|Comedy|Fantasy  \n",
       "1      Grumpier Old Men (1995)                               Comedy|Romance  \n",
       "2                  Heat (1995)                        Action|Crime|Thriller  \n",
       "3  Seven (a.k.a. Se7en) (1995)                             Mystery|Thriller  \n",
       "4   Usual Suspects, The (1995)                       Crime|Mystery|Thriller  \n",
       "5   From Dusk Till Dawn (1996)                Action|Comedy|Horror|Thriller  \n",
       "6         Bottle Rocket (1996)               Adventure|Comedy|Crime|Romance  \n",
       "7            Braveheart (1995)                             Action|Drama|War  \n",
       "8               Rob Roy (1995)                     Action|Drama|Romance|War  \n",
       "9        Canadian Bacon (1995)                                   Comedy|War  "
      ]
     },
     "execution_count": 1,
     "metadata": {},
     "output_type": "execute_result"
    }
   ],
   "source": [
    "import pandas as pd\n",
    "import numpy as np\n",
    "\n",
    "# define the path to the data set\n",
    "path = 'ml-latest-small/'\n",
    "\n",
    "# Read the data and set 'movieId' as index\n",
    "ratings = pd.read_csv(path + 'ratings.csv').set_index('movieId')\n",
    "links = pd.read_csv(path + 'links.csv').set_index('movieId')\n",
    "movies = pd.read_csv(path + 'movies.csv').set_index('movieId')\n",
    "\n",
    "# The 3 data sets can be connected using the movieId field:\n",
    "data = pd.concat([ratings, links, movies], axis = 1, join = 'inner').reset_index()\n",
    "data.head(10)"
   ]
  },
  {
   "cell_type": "code",
   "execution_count": 2,
   "metadata": {},
   "outputs": [
    {
     "name": "stdout",
     "output_type": "stream",
     "text": [
      "There are 610 unique users and 9724 unique items\n",
      "Min userId = 1, max userId = 610\n",
      "Min movieId = 1, max movieId = 193609\n"
     ]
    }
   ],
   "source": [
    "# Count the nr. of unique movie and users\n",
    "n_users = data['userId'].unique().shape[0]\n",
    "n_items = data['movieId'].unique().shape[0]\n",
    "\n",
    "print('There are {} unique users and {} unique items'.format(n_users, n_items))\n",
    "print('Min userId = {}, max userId = {}'.format(data['userId'].min(), data['userId'].max()))\n",
    "print('Min movieId = {}, max movieId = {}'.format(data['movieId'].min(), data['movieId'].max()))"
   ]
  },
  {
   "cell_type": "markdown",
   "metadata": {},
   "source": [
    "Beacuse _movieId_ is not monotonically increasing, we have to re-map it to go from 1 to 9724 (the number of unique movies). This will be useful later on."
   ]
  },
  {
   "cell_type": "code",
   "execution_count": 3,
   "metadata": {},
   "outputs": [
    {
     "data": {
      "text/html": [
       "<div>\n",
       "<style scoped>\n",
       "    .dataframe tbody tr th:only-of-type {\n",
       "        vertical-align: middle;\n",
       "    }\n",
       "\n",
       "    .dataframe tbody tr th {\n",
       "        vertical-align: top;\n",
       "    }\n",
       "\n",
       "    .dataframe thead th {\n",
       "        text-align: right;\n",
       "    }\n",
       "</style>\n",
       "<table border=\"1\" class=\"dataframe\">\n",
       "  <thead>\n",
       "    <tr style=\"text-align: right;\">\n",
       "      <th></th>\n",
       "      <th>movieId</th>\n",
       "      <th>userId</th>\n",
       "      <th>rating</th>\n",
       "      <th>timestamp</th>\n",
       "      <th>imdbId</th>\n",
       "      <th>tmdbId</th>\n",
       "      <th>title</th>\n",
       "      <th>genres</th>\n",
       "    </tr>\n",
       "  </thead>\n",
       "  <tbody>\n",
       "    <tr>\n",
       "      <th>0</th>\n",
       "      <td>1</td>\n",
       "      <td>1</td>\n",
       "      <td>4.0</td>\n",
       "      <td>964982703</td>\n",
       "      <td>114709</td>\n",
       "      <td>862.0</td>\n",
       "      <td>Toy Story (1995)</td>\n",
       "      <td>Adventure|Animation|Children|Comedy|Fantasy</td>\n",
       "    </tr>\n",
       "    <tr>\n",
       "      <th>1</th>\n",
       "      <td>2</td>\n",
       "      <td>1</td>\n",
       "      <td>4.0</td>\n",
       "      <td>964981247</td>\n",
       "      <td>113228</td>\n",
       "      <td>15602.0</td>\n",
       "      <td>Grumpier Old Men (1995)</td>\n",
       "      <td>Comedy|Romance</td>\n",
       "    </tr>\n",
       "    <tr>\n",
       "      <th>2</th>\n",
       "      <td>3</td>\n",
       "      <td>1</td>\n",
       "      <td>4.0</td>\n",
       "      <td>964982224</td>\n",
       "      <td>113277</td>\n",
       "      <td>949.0</td>\n",
       "      <td>Heat (1995)</td>\n",
       "      <td>Action|Crime|Thriller</td>\n",
       "    </tr>\n",
       "    <tr>\n",
       "      <th>3</th>\n",
       "      <td>4</td>\n",
       "      <td>1</td>\n",
       "      <td>5.0</td>\n",
       "      <td>964983815</td>\n",
       "      <td>114369</td>\n",
       "      <td>807.0</td>\n",
       "      <td>Seven (a.k.a. Se7en) (1995)</td>\n",
       "      <td>Mystery|Thriller</td>\n",
       "    </tr>\n",
       "    <tr>\n",
       "      <th>4</th>\n",
       "      <td>5</td>\n",
       "      <td>1</td>\n",
       "      <td>5.0</td>\n",
       "      <td>964982931</td>\n",
       "      <td>114814</td>\n",
       "      <td>629.0</td>\n",
       "      <td>Usual Suspects, The (1995)</td>\n",
       "      <td>Crime|Mystery|Thriller</td>\n",
       "    </tr>\n",
       "    <tr>\n",
       "      <th>5</th>\n",
       "      <td>6</td>\n",
       "      <td>1</td>\n",
       "      <td>3.0</td>\n",
       "      <td>964982400</td>\n",
       "      <td>116367</td>\n",
       "      <td>755.0</td>\n",
       "      <td>From Dusk Till Dawn (1996)</td>\n",
       "      <td>Action|Comedy|Horror|Thriller</td>\n",
       "    </tr>\n",
       "    <tr>\n",
       "      <th>6</th>\n",
       "      <td>7</td>\n",
       "      <td>1</td>\n",
       "      <td>5.0</td>\n",
       "      <td>964980868</td>\n",
       "      <td>115734</td>\n",
       "      <td>13685.0</td>\n",
       "      <td>Bottle Rocket (1996)</td>\n",
       "      <td>Adventure|Comedy|Crime|Romance</td>\n",
       "    </tr>\n",
       "    <tr>\n",
       "      <th>7</th>\n",
       "      <td>8</td>\n",
       "      <td>1</td>\n",
       "      <td>4.0</td>\n",
       "      <td>964982176</td>\n",
       "      <td>112573</td>\n",
       "      <td>197.0</td>\n",
       "      <td>Braveheart (1995)</td>\n",
       "      <td>Action|Drama|War</td>\n",
       "    </tr>\n",
       "    <tr>\n",
       "      <th>8</th>\n",
       "      <td>9</td>\n",
       "      <td>1</td>\n",
       "      <td>5.0</td>\n",
       "      <td>964984041</td>\n",
       "      <td>114287</td>\n",
       "      <td>11780.0</td>\n",
       "      <td>Rob Roy (1995)</td>\n",
       "      <td>Action|Drama|Romance|War</td>\n",
       "    </tr>\n",
       "    <tr>\n",
       "      <th>9</th>\n",
       "      <td>10</td>\n",
       "      <td>1</td>\n",
       "      <td>5.0</td>\n",
       "      <td>964984100</td>\n",
       "      <td>109370</td>\n",
       "      <td>1775.0</td>\n",
       "      <td>Canadian Bacon (1995)</td>\n",
       "      <td>Comedy|War</td>\n",
       "    </tr>\n",
       "  </tbody>\n",
       "</table>\n",
       "</div>"
      ],
      "text/plain": [
       "   movieId  userId  rating  timestamp  imdbId   tmdbId  \\\n",
       "0        1       1     4.0  964982703  114709    862.0   \n",
       "1        2       1     4.0  964981247  113228  15602.0   \n",
       "2        3       1     4.0  964982224  113277    949.0   \n",
       "3        4       1     5.0  964983815  114369    807.0   \n",
       "4        5       1     5.0  964982931  114814    629.0   \n",
       "5        6       1     3.0  964982400  116367    755.0   \n",
       "6        7       1     5.0  964980868  115734  13685.0   \n",
       "7        8       1     4.0  964982176  112573    197.0   \n",
       "8        9       1     5.0  964984041  114287  11780.0   \n",
       "9       10       1     5.0  964984100  109370   1775.0   \n",
       "\n",
       "                         title                                       genres  \n",
       "0             Toy Story (1995)  Adventure|Animation|Children|Comedy|Fantasy  \n",
       "1      Grumpier Old Men (1995)                               Comedy|Romance  \n",
       "2                  Heat (1995)                        Action|Crime|Thriller  \n",
       "3  Seven (a.k.a. Se7en) (1995)                             Mystery|Thriller  \n",
       "4   Usual Suspects, The (1995)                       Crime|Mystery|Thriller  \n",
       "5   From Dusk Till Dawn (1996)                Action|Comedy|Horror|Thriller  \n",
       "6         Bottle Rocket (1996)               Adventure|Comedy|Crime|Romance  \n",
       "7            Braveheart (1995)                             Action|Drama|War  \n",
       "8               Rob Roy (1995)                     Action|Drama|Romance|War  \n",
       "9        Canadian Bacon (1995)                                   Comedy|War  "
      ]
     },
     "execution_count": 3,
     "metadata": {},
     "output_type": "execute_result"
    }
   ],
   "source": [
    "# The movie ID is not monotonically increasing so we need to create a new one\n",
    "id_old = list(data['movieId'].unique())\n",
    "id_new = list(range(1, len(id_old)+1))\n",
    "\n",
    "# Lets save the old id for later in case we need it\n",
    "id_old_to_new = dict(zip(id_old, id_new))\n",
    "id_new_to_old = {v: k for k, v in id_old_to_new.items()}\n",
    "\n",
    "# Add new ID to df\n",
    "data['movieId'] = list(map(lambda x: id_old_to_new[x], data['movieId']))\n",
    "\n",
    "# Lets also create an {key = id : value = movie_title} dictionary to able quickly look up movie titles\n",
    "unique_movies = data.drop_duplicates('movieId', inplace=False)[['title', 'movieId']]\n",
    "id_to_title = dict(zip(unique_movies['movieId'].values, unique_movies['title'].values))\n",
    "\n",
    "data.head(10)"
   ]
  },
  {
   "cell_type": "code",
   "execution_count": 4,
   "metadata": {},
   "outputs": [
    {
     "name": "stdout",
     "output_type": "stream",
     "text": [
      "40 Space Jam (1996)\n",
      "163 Office Space (1999)\n",
      "199 Spaceballs (1987)\n",
      "724 2001: A Space Odyssey (1968)\n",
      "1018 Space Cowboys (2000)\n",
      "1170 Plan 9 from Outer Space (1959)\n",
      "1524 Lost in Space (1998)\n",
      "1642 Muppets From Space (1999)\n",
      "2924 It Came from Outer Space (1953)\n",
      "3875 Codependent Lesbian Space Alien Seeks Same (2011)\n",
      "3911 Space Buddies (2009)\n",
      "4106 Spacehunter: Adventures in the Forbidden Zone (1983)\n",
      "4875 SpaceCamp (1986)\n",
      "5016 Cat from Outer Space, The (1978)\n",
      "6254 Killer Klowns from Outer Space (1988)\n",
      "6875 The Forgotten Space (2010)\n",
      "6950 Space Battleship Yamato (2010)\n",
      "7754 Morons From Outer Space (1985)\n",
      "8874 The Space Between Us (2016)\n",
      "9030 Spaced Invaders (1990)\n",
      "9060 Space Truckers (1996)\n",
      "9154 Leprechaun 4: In Space (1997)\n"
     ]
    }
   ],
   "source": [
    "for movie_id, movie in id_to_title.items():\n",
    "    if 'Space' in movie:\n",
    "        print(movie_id, movie)"
   ]
  },
  {
   "cell_type": "code",
   "execution_count": 5,
   "metadata": {},
   "outputs": [
    {
     "data": {
      "text/plain": [
       "'2001: A Space Odyssey (1968)'"
      ]
     },
     "execution_count": 5,
     "metadata": {},
     "output_type": "execute_result"
    }
   ],
   "source": [
    "id_to_title[724]"
   ]
  },
  {
   "cell_type": "markdown",
   "metadata": {},
   "source": [
    "It is very important to visualise the data in order to gain a better understanding of it. Here we will only visualise the distibution of the ratings and the distribution of the number of ratings. We can notice that people prefer to use round numbers when giving ratings and also that the majority of the ratings are around 3 and 4 stars. Most movies also have very few ratings or none at all."
   ]
  },
  {
   "cell_type": "code",
   "execution_count": 7,
   "metadata": {},
   "outputs": [
    {
     "data": {
      "image/png": "[encoded data removed]",
      "text/plain": [
       "<Figure size 1008x288 with 2 Axes>"
      ]
     },
     "metadata": {},
     "output_type": "display_data"
    }
   ],
   "source": [
    "import matplotlib.pyplot as plt\n",
    "import seaborn as sns\n",
    "\n",
    "# Nr. of ratings per movie\n",
    "ratings_count = data.groupby('title').sum()['rating'].sort_values(axis=0, ascending=False).reset_index()\n",
    "\n",
    "with plt.style.context('ggplot'):\n",
    "    fig, ax = plt.subplots(1, 2, figsize=(14, 4))\n",
    "    \n",
    "    data['rating'].hist(ax = ax[0])\n",
    "    ax[0].set_title('Distribution of ratings')\n",
    "\n",
    "    ratings_count.hist(bins=20, ax = ax[1])\n",
    "    ax[1].set_title('Distribution of number of ratings per movie')\n",
    "    plt.show()"
   ]
  },
  {
   "cell_type": "markdown",
   "metadata": {},
   "source": [
    "An important concept in machine learning is __model validation__. It is mainly used to estimate how well a model will perform in practice. This is done by splitting our data into a test set and a train set. The train set is used to train the algorithm while the test set is used estimate the performance of the algorithm in practice. To achieve this, we will randomly remove 10 movies from each user and put those ratings in a separate test set. However, first we create the user-item matrix:"
   ]
  },
  {
   "cell_type": "code",
   "execution_count": 8,
   "metadata": {},
   "outputs": [
    {
     "data": {
      "text/plain": [
       "array([[4. , 4. , 4. , ..., 0. , 0. , 0. ],\n",
       "       [0. , 0. , 0. , ..., 0. , 0. , 0. ],\n",
       "       [0. , 0. , 0. , ..., 0. , 0. , 0. ],\n",
       "       ...,\n",
       "       [2.5, 2. , 0. , ..., 0. , 0. , 0. ],\n",
       "       [3. , 0. , 0. , ..., 0. , 0. , 0. ],\n",
       "       [5. , 0. , 5. , ..., 3. , 3.5, 3.5]])"
      ]
     },
     "execution_count": 8,
     "metadata": {},
     "output_type": "execute_result"
    }
   ],
   "source": [
    "# Given that now we have monotonically increasing IDs we can easily create the user-item matrix:\n",
    "\n",
    "# Step 1.) Create user-item matrix of zeros\n",
    "ratings = np.zeros((n_users, n_items))\n",
    "\n",
    "# Step 2.) Populate matrix with ratings\n",
    "for row in data.itertuples():\n",
    "    ratings[row[2]-1, row[1]-1] = row[3]\n",
    "\n",
    "# Step 3.) Now we have a matrix where each row index is a user and each column index is a movie and cells are ratings \n",
    "ratings"
   ]
  },
  {
   "cell_type": "code",
   "execution_count": 9,
   "metadata": {},
   "outputs": [],
   "source": [
    "# Set a random seed so results are reproducible\n",
    "np.random.seed(10)\n",
    "\n",
    "def train_test_split(ratings, ratings_to_remove = 10):\n",
    "    \"\"\"Creates a train and a test set by removing n ratings from each user\"\"\"\n",
    "    test = np.zeros(ratings.shape)\n",
    "    train = ratings.copy()\n",
    "    for user in range(ratings.shape[0]):\n",
    "        test_ratings = np.random.choice(ratings[user, :].nonzero()[0], size=ratings_to_remove, replace=False)\n",
    "        train[user, test_ratings] = 0.\n",
    "        test[user, test_ratings] = ratings[user, test_ratings]\n",
    "        \n",
    "    # Verify if test and training are truly disjoint\n",
    "    assert(np.all((train * test) == 0)) \n",
    "    return train, test\n",
    "\n",
    "train, test = train_test_split(ratings)"
   ]
  },
  {
   "cell_type": "markdown",
   "metadata": {},
   "source": [
    "Now we have a matrix which we can use to train our algorithm on and a another one to test it on."
   ]
  },
  {
   "cell_type": "markdown",
   "metadata": {},
   "source": [
    "# Content-based filtering\n",
    "\n",
    "Content-based filtering algortihms rely on calculating simialirities between attributes of a given product. In our case we are going to be using the movie genres as our item attributes. The first step in creating our content-based recommender is to calculate all the similarities between movies. However, to achieve this we need to do some data pre-processing first."
   ]
  },
  {
   "cell_type": "code",
   "execution_count": 10,
   "metadata": {},
   "outputs": [
    {
     "name": "stdout",
     "output_type": "stream",
     "text": [
      "Key = 1 : Value = ['Adventure', 'Animation', 'Children', 'Comedy', 'Fantasy']\n",
      "Key = 2 : Value = ['Comedy', 'Romance']\n",
      "Key = 3 : Value = ['Action', 'Crime', 'Thriller']\n",
      "Key = 4 : Value = ['Mystery', 'Thriller']\n",
      "Key = 5 : Value = ['Crime', 'Mystery', 'Thriller']\n",
      "Key = 6 : Value = ['Action', 'Comedy', 'Horror', 'Thriller']\n",
      "Key = 7 : Value = ['Adventure', 'Comedy', 'Crime', 'Romance']\n",
      "Key = 8 : Value = ['Action', 'Drama', 'War']\n",
      "Key = 9 : Value = ['Action', 'Drama', 'Romance', 'War']\n"
     ]
    }
   ],
   "source": [
    "# Step 1.) Filter for unique movies\n",
    "unique_movies = data.drop_duplicates('movieId', inplace=False)[['genres', 'movieId']]\n",
    "\n",
    "# Step 2.) Lets find all the listed genres and create a {key = movieID : value = genreList} dictionary\n",
    "genres = {}\n",
    "genres_generator = map(lambda x: x.split('|'), unique_movies['genres'])\n",
    "for i, g in enumerate(genres_generator, 1):\n",
    "    if i==1:\n",
    "        unique_genres = set(g)\n",
    "        genres[i] = g\n",
    "    else:\n",
    "        unique_genres = unique_genres.union(g)\n",
    "        genres[i] = g\n",
    "        \n",
    "unique_genres = {v: k for k, v in dict(enumerate(unique_genres)).items()}\n",
    "\n",
    "for i in range(1, 10):\n",
    "    print('Key = {} : Value = {}'.format(i, genres[i]))"
   ]
  },
  {
   "cell_type": "markdown",
   "metadata": {},
   "source": [
    "We need to transform our dictionary of movie genre lists into a matrix where row indices are movies and column indices are genres:"
   ]
  },
  {
   "cell_type": "code",
   "execution_count": 11,
   "metadata": {},
   "outputs": [
    {
     "name": "stdout",
     "output_type": "stream",
     "text": [
      "ID = 1  [0. 0. 1. 0. 0. 0. 1. 0. 0. 0. 0. 0. 1. 0. 0. 1. 0. 0. 0. 1.]\n",
      "ID = 2  [0. 0. 0. 0. 0. 0. 0. 1. 0. 0. 0. 0. 1. 0. 0. 0. 0. 0. 0. 0.]\n",
      "ID = 3  [1. 0. 0. 0. 0. 0. 0. 0. 0. 0. 0. 0. 0. 1. 1. 0. 0. 0. 0. 0.]\n",
      "ID = 4  [0. 0. 0. 0. 0. 0. 0. 0. 0. 0. 0. 0. 0. 0. 1. 0. 0. 1. 0. 0.]\n",
      "ID = 5  [1. 0. 0. 0. 0. 0. 0. 0. 0. 0. 0. 0. 0. 0. 1. 0. 0. 1. 0. 0.]\n"
     ]
    }
   ],
   "source": [
    "# Step 3.) One-hot encode genres\n",
    "genres_matrix = np.zeros((n_items, len(unique_genres)))\n",
    "for user, genre_list in genres.items():\n",
    "    genres_matrix[user-1, list(map(lambda x: unique_genres[x], genre_list))] = 1\n",
    "    \n",
    "# Step 4.) Now we have a matrix where each row index is a movie id and each column index is genre while cells are \n",
    "# either 0 or 1 depending on whether a movie belongs to a specific genre\n",
    "for i in range(5):\n",
    "    print('ID = {} '.format(i+1), genres_matrix[i, :])"
   ]
  },
  {
   "cell_type": "code",
   "execution_count": 12,
   "metadata": {},
   "outputs": [
    {
     "name": "stdout",
     "output_type": "stream",
     "text": [
      "Column index 1 = Crime\n",
      "Column index 2 = Sci-Fi\n",
      "Column index 3 = Adventure\n",
      "Column index 4 = Film-Noir\n",
      "Column index 5 = Musical\n",
      "Column index 6 = War\n",
      "Column index 7 = Animation\n",
      "Column index 8 = Romance\n",
      "Column index 9 = Drama\n",
      "Column index 10 = (no genres listed)\n",
      "Column index 11 = Western\n",
      "Column index 12 = Documentary\n",
      "Column index 13 = Comedy\n",
      "Column index 14 = Action\n",
      "Column index 15 = Thriller\n",
      "Column index 16 = Fantasy\n",
      "Column index 17 = Horror\n",
      "Column index 18 = Mystery\n",
      "Column index 19 = IMAX\n",
      "Column index 20 = Children\n"
     ]
    }
   ],
   "source": [
    "# Print mapping from column index to genre\n",
    "for key, value in unique_genres.items():\n",
    "    print('Column index {} = {}'.format(value+1, key))"
   ]
  },
  {
   "cell_type": "markdown",
   "metadata": {},
   "source": [
    "Now that we have stored our data in the right data structure we can build a function to calculate the __cosine similarity__ between all movies:"
   ]
  },
  {
   "cell_type": "code",
   "execution_count": 13,
   "metadata": {},
   "outputs": [
    {
     "name": "stdout",
     "output_type": "stream",
     "text": [
      "[[1.         0.31622777 0.         ... 0.         0.         0.        ]\n",
      " [0.31622777 1.         0.         ... 0.         0.         0.        ]\n",
      " [0.         0.         1.         ... 0.66666667 0.40824829 0.        ]\n",
      " ...\n",
      " [0.         0.         0.66666667 ... 1.         0.40824829 0.        ]\n",
      " [0.         0.         0.40824829 ... 0.40824829 1.         0.70710678]\n",
      " [0.         0.         0.         ... 0.         0.70710678 1.        ]]\n"
     ]
    }
   ],
   "source": [
    "def calculate_content_similarity(genres_matrix, epsilon=1e-9):\n",
    "    # epsilon is small number for handling dived-by-zero errors\n",
    "    sim = genres_matrix.dot(genres_matrix.T) + epsilon\n",
    "    norms = np.array([np.sqrt(np.diagonal(sim))])\n",
    "    return (sim / norms / norms.T)\n",
    "\n",
    "# Lets calculate content similarities between all movie pairs\n",
    "movie_similarity_matrix = calculate_content_similarity(genres_matrix)\n",
    "\n",
    "# We can set very low similarity scores to 0\n",
    "movie_similarity_matrix[movie_similarity_matrix<0.0001] = 0\n",
    "\n",
    "# Now we have a matrix where each row index and each column index is a movie id and cells are similarity scores\n",
    "print(movie_similarity_matrix)"
   ]
  },
  {
   "cell_type": "markdown",
   "metadata": {},
   "source": [
    "We can double check if our __calculate_content_similarity__ function is correct by testing a few examples using the __cosine_similarity__ function from __scikit-learn__:"
   ]
  },
  {
   "cell_type": "code",
   "execution_count": 14,
   "metadata": {},
   "outputs": [
    {
     "name": "stdout",
     "output_type": "stream",
     "text": [
      "Cosine similarity - sklearn      = 0.0\n",
      "Cosine similarity - our function = 0.0\n"
     ]
    }
   ],
   "source": [
    "from sklearn.metrics.pairwise import cosine_similarity\n",
    "\n",
    "movie1 = np.random.randint(1, n_items)\n",
    "movie2 = np.random.randint(1, n_items)\n",
    "genre_array1 = genres_matrix[movie1, :].reshape(1,-1)\n",
    "genre_array2 = genres_matrix[movie2, :].reshape(1,-1)\n",
    "\n",
    "print('Cosine similarity - sklearn      = {}'.format(float(cosine_similarity(genre_array1, genre_array2))))\n",
    "print('Cosine similarity - our function = {}'.format(movie_similarity_matrix[movie1, movie2]))"
   ]
  },
  {
   "cell_type": "markdown",
   "metadata": {},
   "source": [
    "Now that we have calculated the similarities between all movie pairs we can start making predictions. For this, we will be using a method called __k-nearest-neighbours__. KNN is a very simple algorithm which calculates the ratings for a specific movie by taking the k most similar movies to it and calculating a weighted average of their ratings:\n",
    "\n",
    "$$ \\textbf {Predicted rating} = \\sum_{i=1}^n{\\frac{similarity_i * rating_i}{similarity_i}} $$"
   ]
  },
  {
   "cell_type": "code",
   "execution_count": 15,
   "metadata": {},
   "outputs": [],
   "source": [
    "import heapq\n",
    "\n",
    "def k_nearest_neighbors(neighbors, k = 40):\n",
    "    \"\"\"Predict the rating for a movie using the weighted average rating of the of k-nearest-neighbors\"\"\"\n",
    "    k_neighbors = heapq.nlargest(k, neighbors, key=lambda t: t[0])    \n",
    "    similarity_total = 0\n",
    "    weighted_sum = 0    \n",
    "    for (similarity, rating) in k_neighbors:\n",
    "        if (similarity > 0):\n",
    "            similarity_total += similarity\n",
    "            weighted_sum += similarity * rating\n",
    "    if similarity_total == 0:\n",
    "        return 0\n",
    "    else:\n",
    "        predicted_rating = weighted_sum / similarity_total\n",
    "        return predicted_rating"
   ]
  },
  {
   "cell_type": "markdown",
   "metadata": {},
   "source": [
    "We go through each user in the test set and take each of the 10 movies they have rated and make a prediction rating prediction for each one of them using our __k_nearest_neighbors__:"
   ]
  },
  {
   "cell_type": "code",
   "execution_count": 16,
   "metadata": {},
   "outputs": [
    {
     "name": "stdout",
     "output_type": "stream",
     "text": [
      "Processing data for user = 0\n",
      "Processing data for user = 100\n",
      "Processing data for user = 200\n",
      "Processing data for user = 300\n",
      "Processing data for user = 400\n",
      "Processing data for user = 500\n",
      "Processing data for user = 600\n"
     ]
    }
   ],
   "source": [
    "predicted_ratings = np.zeros(ratings.shape)\n",
    "\n",
    "# Iterate through each user\n",
    "for i in range(len(test)):\n",
    "    userID = i\n",
    "    test_movies = test[i, :].nonzero()[0]\n",
    "    train_movies = train[i, :].nonzero()[0]\n",
    "    \n",
    "    # Print out progress\n",
    "    if i%100 == 0:\n",
    "        print(\"Processing data for user = {}\".format(userID))\n",
    "    \n",
    "    # Iterate through each of the movie user i has in the test set and predict a rating for it\n",
    "    for movie1 in test_movies:\n",
    "        neighbors = []\n",
    "        for movie2 in train_movies:\n",
    "            similarity = movie_similarity_matrix[movie1, movie2]\n",
    "            rating = train[i, movie2]\n",
    "            neighbors.append((similarity, rating))\n",
    "        predicted_ratings[i, movie1] = k_nearest_neighbors(neighbors, k=40)"
   ]
  },
  {
   "cell_type": "code",
   "execution_count": 17,
   "metadata": {},
   "outputs": [
    {
     "data": {
      "text/plain": [
       "array([[0., 0., 0., ..., 0., 0., 0.],\n",
       "       [0., 0., 0., ..., 0., 0., 0.],\n",
       "       [0., 0., 0., ..., 0., 0., 0.],\n",
       "       ...,\n",
       "       [0., 0., 0., ..., 0., 0., 0.],\n",
       "       [0., 0., 0., ..., 0., 0., 0.],\n",
       "       [0., 0., 0., ..., 0., 0., 0.]])"
      ]
     },
     "execution_count": 17,
     "metadata": {},
     "output_type": "execute_result"
    }
   ],
   "source": [
    "predicted_ratings"
   ]
  },
  {
   "cell_type": "markdown",
   "metadata": {},
   "source": [
    "As mentioned in the introduction, we can measure the accuracy of our predictions using RMSE:"
   ]
  },
  {
   "cell_type": "code",
   "execution_count": 18,
   "metadata": {},
   "outputs": [
    {
     "name": "stdout",
     "output_type": "stream",
     "text": [
      "The mean squared error of our prediction is =  0.9619787197144143\n"
     ]
    }
   ],
   "source": [
    "from math import sqrt\n",
    "from sklearn.metrics import mean_squared_error\n",
    "\n",
    "def get_mse(pred, actual):\n",
    "    # Ignore nonzero terms.\n",
    "    pred = pred[actual.nonzero()].flatten()\n",
    "    actual = actual[actual.nonzero()].flatten()\n",
    "    return sqrt(mean_squared_error(pred, actual))\n",
    "\n",
    "print('The mean squared error of our prediction is =  {}'.format(get_mse(predicted_ratings, test)))"
   ]
  },
  {
   "cell_type": "markdown",
   "metadata": {},
   "source": [
    "However prediction accuracy is only part of the answer. We would also like to sample a few recommandations in order to manually check their quality. To do this, we need to build a data set which contains all the movies not yet rated by a user."
   ]
  },
  {
   "cell_type": "code",
   "execution_count": 19,
   "metadata": {},
   "outputs": [],
   "source": [
    "# Lets build a data set of all the movies users have not rated yet\n",
    "no_ratings = [ratings == 0][0]\n",
    "\n",
    "# Lets pick a random user\n",
    "# user = np.random.randint(0, n_users)\n",
    "user = 113\n",
    "\n",
    "# Get movies user has not yet rated yet\n",
    "not_rated_movies = no_ratings[user, :].nonzero()[0]\n",
    "\n",
    "# Get movies user has rated\n",
    "rated_movies = ratings[user, :].nonzero()[0]\n",
    "\n",
    "# We will predict ratings for all the movies user has not yet rated\n",
    "predicted_ratings = {}\n",
    "for movie1 in not_rated_movies:\n",
    "    neighbors = []\n",
    "    for movie2 in rated_movies:\n",
    "        similarity = movie_similarity_matrix[movie1, movie2]\n",
    "        rating = ratings[user, movie2]\n",
    "        neighbors.append((similarity, rating))\n",
    "    predicted_ratings[movie1] = k_nearest_neighbors(neighbors, k=40)"
   ]
  },
  {
   "cell_type": "markdown",
   "metadata": {},
   "source": [
    "Now we have predicted ratings for all the movies the user has not seen. However, we're only interested in the top N recommandations (we'll use top 10)."
   ]
  },
  {
   "cell_type": "code",
   "execution_count": 20,
   "metadata": {},
   "outputs": [
    {
     "name": "stdout",
     "output_type": "stream",
     "text": [
      "Watched movies:\n",
      "--------------------------------------------------\n",
      "Star Wars: Episode IV - A New Hope (1977)\n",
      "Silence of the Lambs, The (1991)\n",
      "Monty Python and the Holy Grail (1975)\n",
      "Star Wars: Episode VI - Return of the Jedi (1983)\n",
      "Edward Scissorhands (1990)\n",
      "Green Mile, The (1999)\n",
      "Wolf of Wall Street, The (2013)\n",
      "Mad Max: Fury Road (2015)\n",
      "Harry Potter and the Sorcerer's Stone (a.k.a. Harry Potter and the Philosopher's Stone) (2001)\n",
      "Shrek (2001)\n",
      "Spider-Man (2002)\n",
      "Harry Potter and the Chamber of Secrets (2002)\n",
      "Harry Potter and the Prisoner of Azkaban (2004)\n",
      "Spider-Man 2 (2004)\n",
      "Incredibles, The (2004)\n",
      "Finding Nemo (2003)\n",
      "Harry Potter and the Half-Blood Prince (2009)\n",
      "Amazing Spider-Man, The (2012)\n",
      "WALL·E (2008)\n",
      "Star Wars: Episode VII - The Force Awakens (2015)\n",
      "Deadpool (2016)\n",
      "Zootopia (2016)\n",
      "Scott Pilgrim vs. the World (2010)\n",
      "Harry Potter and the Goblet of Fire (2005)\n",
      "Harry Potter and the Deathly Hallows: Part 1 (2010)\n",
      "Harry Potter and the Deathly Hallows: Part 2 (2011)\n",
      "Harry Potter and the Order of the Phoenix (2007)\n",
      "Spider-Man 3 (2007)\n",
      "Dope (2015)\n",
      "Deathgasm (2015)\n",
      "A Street Cat Named Bob (2016)\n",
      "\n",
      "Recommended movies:\n",
      "--------------------------------------------------\n",
      "Vampires (1998) 4.1\n",
      "Near Dark (1987) 4.1\n",
      "Bone Tomahawk (2015) 4.1\n",
      "Faces of Death (1978) 4.1\n",
      "Faces of Death 3 (1985) 4.1\n",
      "Shining, The (1980) 4.1\n",
      "Nosferatu (Nosferatu, eine Symphonie des Grauens) (1922) 4.1\n",
      "Texas Chainsaw Massacre, The (1974) 4.1\n",
      "Dracula (1931) 4.1\n",
      "Lord of Illusions (1995) 4.1\n"
     ]
    }
   ],
   "source": [
    "top_n = dict(sorted(predicted_ratings.items(), key=lambda x: x[1], reverse = True)[:10])\n",
    "\n",
    "print('Watched movies:')\n",
    "print('-'*50)\n",
    "for movie in rated_movies:\n",
    "    print(id_to_title[movie+1])\n",
    "\n",
    "print('')\n",
    "print('Recommended movies:')\n",
    "print('-'*50)\n",
    "for movie, rating in top_n.items():\n",
    "    print(id_to_title[movie+1], round(rating,2))"
   ]
  },
  {
   "cell_type": "markdown",
   "metadata": {},
   "source": [
    "To make our analysis a little more interesting we can also view the movie posters for the movies in our data set. This can be done by interrogating __themoviedb.org's__ API using the themoivedb id's stored in our data. However, you'll need to apply for a free API key to get acces to the API."
   ]
  },
  {
   "cell_type": "code",
   "execution_count": 21,
   "metadata": {},
   "outputs": [],
   "source": [
    "from IPython.display import Image\n",
    "from IPython.display import display\n",
    "import requests\n",
    "import json\n",
    "\n",
    "# Get base url filepath structure. w185 corresponds to size of movie poster.\n",
    "headers = {'Accept': 'application/json'}\n",
    "payload = {'api_key': 'Insert your api key here (should look like this: sdjkhskdjfhsf454)'} \n",
    "response = requests.get(\"http://api.themoviedb.org/3/configuration\", params=payload, headers=headers)\n",
    "response = json.loads(response.text)\n",
    "base_url = response['images']['base_url'] + 'w185'\n",
    "\n",
    "def get_poster(movie_id, base_url):    \n",
    "    # Get themoviedb.org id\n",
    "    moviedb_id = data[data['movieId'] == movie_id + 1]['tmdbId'].iloc[0]\n",
    "    \n",
    "    # Query themoviedb.org API for movie poster path.\n",
    "    movie_url = 'http://api.themoviedb.org/3/movie/{:}/images'.format(moviedb_id)\n",
    "    headers = {'Accept': 'application/json'}\n",
    "    payload = {'api_key': 'cbbcdcb89182cd0208a72504fd7699cd'} \n",
    "    response = requests.get(movie_url, params=payload, headers=headers)\n",
    "    try:\n",
    "        file_path = json.loads(response.text)['posters'][0]['file_path']\n",
    "    except:\n",
    "        # If poster not found return an 'Image not found' picture\n",
    "        return 'https://tinyurl.com/y7mgd6sv'\n",
    "        \n",
    "    return base_url + file_path"
   ]
  },
  {
   "cell_type": "code",
   "execution_count": 22,
   "metadata": {},
   "outputs": [
    {
     "data": {
      "text/html": [
       "<img src=\"http://image.tmdb.org/t/p/w185/tvSlBzAdRE29bZe5yYWrJ2ds137.jpg\"/>"
      ],
      "text/plain": [
       "<IPython.core.display.Image object>"
      ]
     },
     "metadata": {},
     "output_type": "display_data"
    },
    {
     "data": {
      "text/html": [
       "<img src=\"http://image.tmdb.org/t/p/w185/qjAyTj2BSth1EQ89vNfo0JYVPFN.jpg\"/>"
      ],
      "text/plain": [
       "<IPython.core.display.Image object>"
      ]
     },
     "metadata": {},
     "output_type": "display_data"
    },
    {
     "data": {
      "text/html": [
       "<img src=\"http://image.tmdb.org/t/p/w185/c2BwptyGX3W9SqpdoOoYBiAmyDZ.jpg\"/>"
      ],
      "text/plain": [
       "<IPython.core.display.Image object>"
      ]
     },
     "metadata": {},
     "output_type": "display_data"
    },
    {
     "data": {
      "text/html": [
       "<img src=\"http://image.tmdb.org/t/p/w185/jx5p0aHlbPXqe3AH9G15NvmWaqQ.jpg\"/>"
      ],
      "text/plain": [
       "<IPython.core.display.Image object>"
      ]
     },
     "metadata": {},
     "output_type": "display_data"
    },
    {
     "data": {
      "text/html": [
       "<img src=\"http://image.tmdb.org/t/p/w185/kgLTB53HinftRRwhft7yrUOclDC.jpg\"/>"
      ],
      "text/plain": [
       "<IPython.core.display.Image object>"
      ]
     },
     "metadata": {},
     "output_type": "display_data"
    },
    {
     "data": {
      "text/html": [
       "<img src=\"http://image.tmdb.org/t/p/w185/lNNe9VghX4RmFB3r11dlREXKW7.jpg\"/>"
      ],
      "text/plain": [
       "<IPython.core.display.Image object>"
      ]
     },
     "metadata": {},
     "output_type": "display_data"
    },
    {
     "data": {
      "text/html": [
       "<img src=\"http://image.tmdb.org/t/p/w185/vK1o5rZGqxyovfIhZyMELhk03wO.jpg\"/>"
      ],
      "text/plain": [
       "<IPython.core.display.Image object>"
      ]
     },
     "metadata": {},
     "output_type": "display_data"
    },
    {
     "data": {
      "text/html": [
       "<img src=\"http://image.tmdb.org/t/p/w185/dywDjqAJoWudjgtHHIndmY9xvj9.jpg\"/>"
      ],
      "text/plain": [
       "<IPython.core.display.Image object>"
      ]
     },
     "metadata": {},
     "output_type": "display_data"
    },
    {
     "data": {
      "text/html": [
       "<img src=\"http://image.tmdb.org/t/p/w185/xdTCNX2bhgxqbuwd5r0KbLULbcb.jpg\"/>"
      ],
      "text/plain": [
       "<IPython.core.display.Image object>"
      ]
     },
     "metadata": {},
     "output_type": "display_data"
    },
    {
     "data": {
      "text/html": [
       "<img src=\"http://image.tmdb.org/t/p/w185/140ewbWv8qHStD3mlBDvvGd0Zvu.jpg\"/>"
      ],
      "text/plain": [
       "<IPython.core.display.Image object>"
      ]
     },
     "metadata": {},
     "output_type": "display_data"
    },
    {
     "data": {
      "text/html": [
       "<img src=\"http://image.tmdb.org/t/p/w185/rZd0y1X1Gw4t5B3f01Qzj8DYY66.jpg\"/>"
      ],
      "text/plain": [
       "<IPython.core.display.Image object>"
      ]
     },
     "metadata": {},
     "output_type": "display_data"
    },
    {
     "data": {
      "text/html": [
       "<img src=\"http://image.tmdb.org/t/p/w185/lryNn7sNkvQIg45KwgeKnMxSSRX.jpg\"/>"
      ],
      "text/plain": [
       "<IPython.core.display.Image object>"
      ]
     },
     "metadata": {},
     "output_type": "display_data"
    },
    {
     "data": {
      "text/html": [
       "<img src=\"http://image.tmdb.org/t/p/w185/uDQibffYgssdiqx7izO57wdLc6.jpg\"/>"
      ],
      "text/plain": [
       "<IPython.core.display.Image object>"
      ]
     },
     "metadata": {},
     "output_type": "display_data"
    },
    {
     "data": {
      "text/html": [
       "<img src=\"http://image.tmdb.org/t/p/w185/pixSKHplrTqUzxMS2K5socvtCfs.jpg\"/>"
      ],
      "text/plain": [
       "<IPython.core.display.Image object>"
      ]
     },
     "metadata": {},
     "output_type": "display_data"
    },
    {
     "data": {
      "text/html": [
       "<img src=\"http://image.tmdb.org/t/p/w185/3AzcQnXKu4f3FlyibTXdtGyRuAk.jpg\"/>"
      ],
      "text/plain": [
       "<IPython.core.display.Image object>"
      ]
     },
     "metadata": {},
     "output_type": "display_data"
    },
    {
     "data": {
      "text/html": [
       "<img src=\"http://image.tmdb.org/t/p/w185/wc6k6nqoo5kAOMnkJsvUGuDScd8.jpg\"/>"
      ],
      "text/plain": [
       "<IPython.core.display.Image object>"
      ]
     },
     "metadata": {},
     "output_type": "display_data"
    },
    {
     "data": {
      "text/html": [
       "<img src=\"http://image.tmdb.org/t/p/w185/bFXys2nhALwDvpkF3dP3Vvdfn8b.jpg\"/>"
      ],
      "text/plain": [
       "<IPython.core.display.Image object>"
      ]
     },
     "metadata": {},
     "output_type": "display_data"
    },
    {
     "data": {
      "text/html": [
       "<img src=\"http://image.tmdb.org/t/p/w185/sQmF1nLvXDzq3koIR2XFYJSz5gH.jpg\"/>"
      ],
      "text/plain": [
       "<IPython.core.display.Image object>"
      ]
     },
     "metadata": {},
     "output_type": "display_data"
    },
    {
     "data": {
      "text/html": [
       "<img src=\"http://image.tmdb.org/t/p/w185/9cJETuLMc6R0bTWRA5i7ctY9bxk.jpg\"/>"
      ],
      "text/plain": [
       "<IPython.core.display.Image object>"
      ]
     },
     "metadata": {},
     "output_type": "display_data"
    },
    {
     "data": {
      "text/html": [
       "<img src=\"http://image.tmdb.org/t/p/w185/vZpB8ezB1IqpxI9rx553TuGwDzJ.jpg\"/>"
      ],
      "text/plain": [
       "<IPython.core.display.Image object>"
      ]
     },
     "metadata": {},
     "output_type": "display_data"
    },
    {
     "data": {
      "text/html": [
       "<img src=\"http://image.tmdb.org/t/p/w185/inVq3FRqcYIRl2la8iZikYYxFNR.jpg\"/>"
      ],
      "text/plain": [
       "<IPython.core.display.Image object>"
      ]
     },
     "metadata": {},
     "output_type": "display_data"
    },
    {
     "data": {
      "text/html": [
       "<img src=\"http://image.tmdb.org/t/p/w185/1YzLAWykXzZhydoGJCqoVQ0gVyC.jpg\"/>"
      ],
      "text/plain": [
       "<IPython.core.display.Image object>"
      ]
     },
     "metadata": {},
     "output_type": "display_data"
    },
    {
     "data": {
      "text/html": [
       "<img src=\"http://image.tmdb.org/t/p/w185/lafRuPbjEQrrHG9QEaoyV2znZC.jpg\"/>"
      ],
      "text/plain": [
       "<IPython.core.display.Image object>"
      ]
     },
     "metadata": {},
     "output_type": "display_data"
    },
    {
     "data": {
      "text/html": [
       "<img src=\"http://image.tmdb.org/t/p/w185/6sASqcdrEHXxUhA3nFpjrRecPD2.jpg\"/>"
      ],
      "text/plain": [
       "<IPython.core.display.Image object>"
      ]
     },
     "metadata": {},
     "output_type": "display_data"
    },
    {
     "data": {
      "text/html": [
       "<img src=\"http://image.tmdb.org/t/p/w185/maP4MTfPCeVD2FZbKTLUgriOW4R.jpg\"/>"
      ],
      "text/plain": [
       "<IPython.core.display.Image object>"
      ]
     },
     "metadata": {},
     "output_type": "display_data"
    },
    {
     "data": {
      "text/html": [
       "<img src=\"http://image.tmdb.org/t/p/w185/fTplI1NCSuEDP4ITLcTps739fcC.jpg\"/>"
      ],
      "text/plain": [
       "<IPython.core.display.Image object>"
      ]
     },
     "metadata": {},
     "output_type": "display_data"
    },
    {
     "data": {
      "text/html": [
       "<img src=\"http://image.tmdb.org/t/p/w185/lmYmoXVzVrTadfXHZ3v1ySqA1fn.jpg\"/>"
      ],
      "text/plain": [
       "<IPython.core.display.Image object>"
      ]
     },
     "metadata": {},
     "output_type": "display_data"
    },
    {
     "data": {
      "text/html": [
       "<img src=\"http://image.tmdb.org/t/p/w185/btocnvK4l8a4BGS887ed3lsTFog.jpg\"/>"
      ],
      "text/plain": [
       "<IPython.core.display.Image object>"
      ]
     },
     "metadata": {},
     "output_type": "display_data"
    },
    {
     "data": {
      "text/html": [
       "<img src=\"http://image.tmdb.org/t/p/w185/a8ATKI5pks0uMQFQzEhElBUrBiQ.jpg\"/>"
      ],
      "text/plain": [
       "<IPython.core.display.Image object>"
      ]
     },
     "metadata": {},
     "output_type": "display_data"
    },
    {
     "data": {
      "text/html": [
       "<img src=\"http://image.tmdb.org/t/p/w185/cwy9sGEOAuzpZXzXBVln1PZ4vxn.jpg\"/>"
      ],
      "text/plain": [
       "<IPython.core.display.Image object>"
      ]
     },
     "metadata": {},
     "output_type": "display_data"
    },
    {
     "data": {
      "text/html": [
       "<img src=\"http://image.tmdb.org/t/p/w185/amJU2TxLHytgnd7xyrNZURS6crk.jpg\"/>"
      ],
      "text/plain": [
       "<IPython.core.display.Image object>"
      ]
     },
     "metadata": {},
     "output_type": "display_data"
    }
   ],
   "source": [
    "watched_movies = tuple(Image(url=get_poster(movie, base_url)) for movie in rated_movies)\n",
    "display(*watched_movies)"
   ]
  },
  {
   "cell_type": "code",
   "execution_count": 23,
   "metadata": {},
   "outputs": [
    {
     "data": {
      "text/html": [
       "<img src=\"http://image.tmdb.org/t/p/w185/qHGawU64MeGvtU86s6V0MA7MqFV.jpg\"/>"
      ],
      "text/plain": [
       "<IPython.core.display.Image object>"
      ]
     },
     "metadata": {},
     "output_type": "display_data"
    },
    {
     "data": {
      "text/html": [
       "<img src=\"http://image.tmdb.org/t/p/w185/saRst8v7T8uJTjmd64VOCx1JoQ4.jpg\"/>"
      ],
      "text/plain": [
       "<IPython.core.display.Image object>"
      ]
     },
     "metadata": {},
     "output_type": "display_data"
    },
    {
     "data": {
      "text/html": [
       "<img src=\"http://image.tmdb.org/t/p/w185/3DDUneU8wCF3Y8SPUnZTXHoFzJh.jpg\"/>"
      ],
      "text/plain": [
       "<IPython.core.display.Image object>"
      ]
     },
     "metadata": {},
     "output_type": "display_data"
    },
    {
     "data": {
      "text/html": [
       "<img src=\"http://image.tmdb.org/t/p/w185/fxp39v8t40JuhYRSKjQH6OC95cc.jpg\"/>"
      ],
      "text/plain": [
       "<IPython.core.display.Image object>"
      ]
     },
     "metadata": {},
     "output_type": "display_data"
    },
    {
     "data": {
      "text/html": [
       "<img src=\"http://image.tmdb.org/t/p/w185/jZrwHwx7XsuNJQ1BchsX0fLJJBt.jpg\"/>"
      ],
      "text/plain": [
       "<IPython.core.display.Image object>"
      ]
     },
     "metadata": {},
     "output_type": "display_data"
    },
    {
     "data": {
      "text/html": [
       "<img src=\"http://image.tmdb.org/t/p/w185/b6ko0IKC8MdYBBPkkA1aBPLe2yz.jpg\"/>"
      ],
      "text/plain": [
       "<IPython.core.display.Image object>"
      ]
     },
     "metadata": {},
     "output_type": "display_data"
    },
    {
     "data": {
      "text/html": [
       "<img src=\"http://image.tmdb.org/t/p/w185/12sAvvSRW7VQyXxYRsTJKB7Gtts.jpg\"/>"
      ],
      "text/plain": [
       "<IPython.core.display.Image object>"
      ]
     },
     "metadata": {},
     "output_type": "display_data"
    },
    {
     "data": {
      "text/html": [
       "<img src=\"http://image.tmdb.org/t/p/w185/hXF5nuEvUIlMXv4fOCIhA8KWaN2.jpg\"/>"
      ],
      "text/plain": [
       "<IPython.core.display.Image object>"
      ]
     },
     "metadata": {},
     "output_type": "display_data"
    },
    {
     "data": {
      "text/html": [
       "<img src=\"http://image.tmdb.org/t/p/w185/hA9kQrIwDHJKl1pt8GpJdDnBzim.jpg\"/>"
      ],
      "text/plain": [
       "<IPython.core.display.Image object>"
      ]
     },
     "metadata": {},
     "output_type": "display_data"
    },
    {
     "data": {
      "text/html": [
       "<img src=\"http://image.tmdb.org/t/p/w185/9pwdoUes8V8ntTetsKtv2ThGeIm.jpg\"/>"
      ],
      "text/plain": [
       "<IPython.core.display.Image object>"
      ]
     },
     "metadata": {},
     "output_type": "display_data"
    }
   ],
   "source": [
    "recommended_movies = tuple(Image(url=get_poster(movie, base_url)) for movie in top_n.keys())\n",
    "display(*recommended_movies)"
   ]
  },
  {
   "cell_type": "markdown",
   "metadata": {},
   "source": [
    "# Collaborative filtering\n",
    "\n",
    "Collaborative filtering methods make use of users’ past behaviour in order to recommend items. This approach does not rely on on item or user attributes. There are two main approaches for making recommandations using collaborative filtering:\n",
    "\n",
    "    1.) Neighborhood-based approach (Memory-based)\n",
    "    2.) Model-based approach"
   ]
  },
  {
   "cell_type": "markdown",
   "metadata": {},
   "source": [
    "## 1.) Neighborhood based approach:\n",
    "\n",
    "Neighbourhood-based collaborative approaches can be divided into two main methods: user-item filtering and item-item filtering. A user-item filtering takes a particular user, finds users that are similar to him or her based similarity of ratings and recommend items that those similar users liked. In contrast, item-item filtering will take an item, find users who liked that item, and find other items that those users or similar users also liked. In both cases, we'll be using the user-item ratings matrix created in the previous section to calculate user-user or item-item similarities.\n",
    "\n",
    "    1.1.) User-item filtering: “Users who are similar to you also liked …”\n",
    "    1.2.) Item-item filtering: “Users who liked this item also liked …”"
   ]
  },
  {
   "cell_type": "markdown",
   "metadata": {},
   "source": [
    "The first step in our neighborhood based approach is to calculate item-item and user-user similarities. This can be achieved using the same approach that we used for calculating content based similarities between movies.\n",
    "\n",
    "_Sidenote: The python code for this part was taken from Ethan Rosenthal's amazing blog:_\n",
    "- https://www.ethanrosenthal.com/2015/11/02/intro-to-collaborative-filtering/#Top-$k$-Collaborative-Filtering"
   ]
  },
  {
   "cell_type": "code",
   "execution_count": 24,
   "metadata": {},
   "outputs": [],
   "source": [
    "def calculate_similarity(ratings, kind='user', epsilon=1e-9):\n",
    "    # epsilon -> small number for handling dived-by-zero errors\n",
    "    if kind == 'user':\n",
    "        sim = ratings.dot(ratings.T) + epsilon\n",
    "    elif kind == 'item':\n",
    "        sim = ratings.T.dot(ratings) + epsilon\n",
    "    norms = np.array([np.sqrt(np.diagonal(sim))])\n",
    "    return (sim / norms / norms.T)"
   ]
  },
  {
   "cell_type": "code",
   "execution_count": 25,
   "metadata": {},
   "outputs": [
    {
     "name": "stdout",
     "output_type": "stream",
     "text": [
      "User similarity matrix:  (610, 610)\n",
      "Item similarity matrix:  (9724, 9724)\n"
     ]
    }
   ],
   "source": [
    "user_similarity = calculate_similarity(train, kind='user')\n",
    "item_similarity = calculate_similarity(train, kind='item')\n",
    "\n",
    "print('User similarity matrix: ', user_similarity.shape)\n",
    "print('Item similarity matrix: ', item_similarity.shape)"
   ]
  },
  {
   "cell_type": "code",
   "execution_count": 26,
   "metadata": {},
   "outputs": [
    {
     "name": "stdout",
     "output_type": "stream",
     "text": [
      "17 Pulp Fiction (1994)\n"
     ]
    }
   ],
   "source": [
    "for movie_id, movie in id_to_title.items():\n",
    "    if 'Pulp' in movie:\n",
    "        print(movie_id, movie)"
   ]
  },
  {
   "cell_type": "code",
   "execution_count": 27,
   "metadata": {},
   "outputs": [],
   "source": [
    "def get_top_10_similar_movies(movie_id):\n",
    "    top_10_similar_movies = list(np.argsort(item_similarity[movie_id-1, :])[:-14:-1])\n",
    "    return top_10_similar_movies"
   ]
  },
  {
   "cell_type": "code",
   "execution_count": 28,
   "metadata": {},
   "outputs": [],
   "source": [
    "top_10_similar_movies = get_top_10_similar_movies(17)"
   ]
  },
  {
   "cell_type": "code",
   "execution_count": 29,
   "metadata": {},
   "outputs": [
    {
     "data": {
      "text/html": [
       "<img src=\"http://image.tmdb.org/t/p/w185/dM2w364MScsjFf8pfMbaWUcWrR.jpg\"/>"
      ],
      "text/plain": [
       "<IPython.core.display.Image object>"
      ]
     },
     "metadata": {},
     "output_type": "display_data"
    },
    {
     "data": {
      "text/html": [
       "<img src=\"http://image.tmdb.org/t/p/w185/qjAyTj2BSth1EQ89vNfo0JYVPFN.jpg\"/>"
      ],
      "text/plain": [
       "<IPython.core.display.Image object>"
      ]
     },
     "metadata": {},
     "output_type": "display_data"
    },
    {
     "data": {
      "text/html": [
       "<img src=\"http://image.tmdb.org/t/p/w185/zGINvGjdlO6TJRu9wESQvWlOKVT.jpg\"/>"
      ],
      "text/plain": [
       "<IPython.core.display.Image object>"
      ]
     },
     "metadata": {},
     "output_type": "display_data"
    },
    {
     "data": {
      "text/html": [
       "<img src=\"http://image.tmdb.org/t/p/w185/8zw8IL4zEPjkh8Aysdcd0FwGMb0.jpg\"/>"
      ],
      "text/plain": [
       "<IPython.core.display.Image object>"
      ]
     },
     "metadata": {},
     "output_type": "display_data"
    },
    {
     "data": {
      "text/html": [
       "<img src=\"http://image.tmdb.org/t/p/w185/jgJoRWltoS17nD5MAQ1yK2Ztefw.jpg\"/>"
      ],
      "text/plain": [
       "<IPython.core.display.Image object>"
      ]
     },
     "metadata": {},
     "output_type": "display_data"
    },
    {
     "data": {
      "text/html": [
       "<img src=\"http://image.tmdb.org/t/p/w185/z4ROnCrL77ZMzT0MsNXY5j25wS2.jpg\"/>"
      ],
      "text/plain": [
       "<IPython.core.display.Image object>"
      ]
     },
     "metadata": {},
     "output_type": "display_data"
    },
    {
     "data": {
      "text/html": [
       "<img src=\"http://image.tmdb.org/t/p/w185/4GpwvwDjgwiShr1UBJIn5fk1gwT.jpg\"/>"
      ],
      "text/plain": [
       "<IPython.core.display.Image object>"
      ]
     },
     "metadata": {},
     "output_type": "display_data"
    },
    {
     "data": {
      "text/html": [
       "<img src=\"http://image.tmdb.org/t/p/w185/8HIhefM9AYdvmFzhuitXWDAduz9.jpg\"/>"
      ],
      "text/plain": [
       "<IPython.core.display.Image object>"
      ]
     },
     "metadata": {},
     "output_type": "display_data"
    },
    {
     "data": {
      "text/html": [
       "<img src=\"http://image.tmdb.org/t/p/w185/pyEkyYgtyjOX1R9EYyUcgbK1sTn.jpg\"/>"
      ],
      "text/plain": [
       "<IPython.core.display.Image object>"
      ]
     },
     "metadata": {},
     "output_type": "display_data"
    },
    {
     "data": {
      "text/html": [
       "<img src=\"http://image.tmdb.org/t/p/w185/hEpWvX6Bp79eLxY1kX5ZZJcme5U.jpg\"/>"
      ],
      "text/plain": [
       "<IPython.core.display.Image object>"
      ]
     },
     "metadata": {},
     "output_type": "display_data"
    },
    {
     "data": {
      "text/html": [
       "<img src=\"http://image.tmdb.org/t/p/w185/pwpGfTImTGifEGgLb3s6LRPd4I6.jpg\"/>"
      ],
      "text/plain": [
       "<IPython.core.display.Image object>"
      ]
     },
     "metadata": {},
     "output_type": "display_data"
    },
    {
     "data": {
      "text/html": [
       "<img src=\"http://image.tmdb.org/t/p/w185/rPdtLWNsZmAtoZl9PK7S2wE3qiS.jpg\"/>"
      ],
      "text/plain": [
       "<IPython.core.display.Image object>"
      ]
     },
     "metadata": {},
     "output_type": "display_data"
    },
    {
     "data": {
      "text/html": [
       "<img src=\"http://image.tmdb.org/t/p/w185/3UBQGKS8c1dxRnDiu5kUK6ej3pP.jpg\"/>"
      ],
      "text/plain": [
       "<IPython.core.display.Image object>"
      ]
     },
     "metadata": {},
     "output_type": "display_data"
    }
   ],
   "source": [
    "top_similar = tuple(Image(url=get_poster(movie, base_url)) for movie in top_10_similar_movies)\n",
    "display(*top_similar)"
   ]
  },
  {
   "cell_type": "code",
   "execution_count": 30,
   "metadata": {},
   "outputs": [
    {
     "data": {
      "text/plain": [
       "array([[1.00000000e+00, 1.69827084e-02, 3.67106271e-02, ...,\n",
       "        2.81830606e-01, 7.51658667e-02, 1.40337501e-01],\n",
       "       [1.69827084e-02, 1.00000000e+00, 3.37276521e-12, ...,\n",
       "        2.97378682e-02, 3.32958965e-12, 8.12101617e-02],\n",
       "       [3.67106271e-02, 3.37276521e-12, 1.00000000e+00, ...,\n",
       "        1.98995907e-02, 3.55427098e-12, 1.87497972e-02],\n",
       "       ...,\n",
       "       [2.81830606e-01, 2.97378682e-02, 1.98995907e-02, ...,\n",
       "        1.00000000e+00, 1.14127232e-01, 3.21482422e-01],\n",
       "       [7.51658667e-02, 3.32958965e-12, 3.55427098e-12, ...,\n",
       "        1.14127232e-01, 1.00000000e+00, 5.31339470e-02],\n",
       "       [1.40337501e-01, 8.12101617e-02, 1.87497972e-02, ...,\n",
       "        3.21482422e-01, 5.31339470e-02, 1.00000000e+00]])"
      ]
     },
     "execution_count": 30,
     "metadata": {},
     "output_type": "execute_result"
    }
   ],
   "source": [
    "user_similarity"
   ]
  },
  {
   "cell_type": "code",
   "execution_count": 31,
   "metadata": {},
   "outputs": [
    {
     "data": {
      "text/plain": [
       "array([[1.00000000e+00, 2.57621919e-01, 3.68466890e-01, ...,\n",
       "        9.19290067e-02, 9.19290067e-02, 9.19290067e-02],\n",
       "       [2.57621919e-01, 1.00000000e+00, 2.27466331e-01, ...,\n",
       "        1.44045272e-11, 1.23467376e-11, 1.23467376e-11],\n",
       "       [3.68466890e-01, 2.27466331e-01, 1.00000000e+00, ...,\n",
       "        1.28384621e-01, 1.28384621e-01, 1.28384621e-01],\n",
       "       ...,\n",
       "       [9.19290067e-02, 1.44045272e-11, 1.28384621e-01, ...,\n",
       "        1.00000000e+00, 1.00000000e+00, 1.00000000e+00],\n",
       "       [9.19290067e-02, 1.23467376e-11, 1.28384621e-01, ...,\n",
       "        1.00000000e+00, 1.00000000e+00, 1.00000000e+00],\n",
       "       [9.19290067e-02, 1.23467376e-11, 1.28384621e-01, ...,\n",
       "        1.00000000e+00, 1.00000000e+00, 1.00000000e+00]])"
      ]
     },
     "execution_count": 31,
     "metadata": {},
     "output_type": "execute_result"
    }
   ],
   "source": [
    "item_similarity"
   ]
  },
  {
   "cell_type": "markdown",
   "metadata": {},
   "source": [
    "We can now predict ratings for movies based either on item-item or user-user similarities. Just as in the case of content based filtering, to calculate the rating for a specific movie, we will look at the k-nearest-neighbors (k most similar movies or items) and and calculate a weighted average of their ratings."
   ]
  },
  {
   "cell_type": "code",
   "execution_count": 32,
   "metadata": {},
   "outputs": [],
   "source": [
    "def predict_knn(ratings, similarity, kind='user', k=40):\n",
    "    predicted_ratings = np.zeros(ratings.shape)\n",
    "    if kind == 'user':\n",
    "        for i in range(ratings.shape[0]):\n",
    "            top_k_users = [np.argsort(similarity[:,i])[:-k-1:-1]]\n",
    "            for j in range(ratings.shape[1]):\n",
    "                predicted_ratings[i, j] = similarity[i, :][top_k_users].dot(ratings[:, j][top_k_users]) \n",
    "                predicted_ratings[i, j] /= np.sum(np.abs(similarity[i, :][top_k_users]))\n",
    "    if kind == 'item':\n",
    "        for j in range(ratings.shape[1]):\n",
    "            top_k_items = [np.argsort(similarity[:,j])[:-k-1:-1]]\n",
    "            for i in range(ratings.shape[0]):\n",
    "                predicted_ratings[i, j] = similarity[j, :][top_k_items].dot(ratings[i, :][top_k_items].T) \n",
    "                predicted_ratings[i, j] /= np.sum(np.abs(similarity[j, :][top_k_items]))        \n",
    "    \n",
    "    return predicted_ratings"
   ]
  },
  {
   "cell_type": "code",
   "execution_count": 36,
   "metadata": {},
   "outputs": [
    {
     "name": "stdout",
     "output_type": "stream",
     "text": [
      "User-based CF RMSE: 2.893779709736768\n",
      "Item-based CF RMSE: 3.2278129662921504\n"
     ]
    }
   ],
   "source": [
    "item_prediction = predict_knn(train, item_similarity, kind='item')\n",
    "user_prediction = predict_knn(train, user_similarity, kind='user')\n",
    "\n",
    "print ('User-based CF RMSE: ' + str(get_mse(user_prediction, test)))\n",
    "print ('Item-based CF RMSE: ' + str(get_mse(item_prediction, test)))"
   ]
  },
  {
   "cell_type": "markdown",
   "metadata": {},
   "source": [
    "Figuring out the right value of k in the k-nearest-neighbors algorithm is another tricky part. One approach we could use is to iterate through several k values and choose the one that minimizes the RMSE."
   ]
  },
  {
   "cell_type": "code",
   "execution_count": null,
   "metadata": {},
   "outputs": [],
   "source": [
    "k_array = [5, 15, 30, 50, 100, 200]\n",
    "user_train_mse = []\n",
    "user_test_mse = []\n",
    "item_test_mse = []\n",
    "item_train_mse = []\n",
    "\n",
    "def get_mse(pred, actual):\n",
    "    pred = pred[actual.nonzero()].flatten()\n",
    "    actual = actual[actual.nonzero()].flatten()\n",
    "    return mean_squared_error(pred, actual)\n",
    "\n",
    "for k in k_array:\n",
    "    user_pred = predict_knn(train, user_similarity, kind='user', k=k)\n",
    "    item_pred = predict_knn(train, item_similarity, kind='item', k=k)\n",
    "    \n",
    "    user_train_mse += [get_mse(user_pred, train)]\n",
    "    user_test_mse += [get_mse(user_pred, test)]\n",
    "    \n",
    "    item_train_mse += [get_mse(item_pred, train)]\n",
    "    item_test_mse += [get_mse(item_pred, test)]"
   ]
  },
  {
   "cell_type": "code",
   "execution_count": 40,
   "metadata": {},
   "outputs": [
    {
     "data": {
      "image/png": "[encoded data removed]",
      "text/plain": [
       "<Figure size 864x432 with 1 Axes>"
      ]
     },
     "metadata": {},
     "output_type": "display_data"
    }
   ],
   "source": [
    "import matplotlib.pyplot as plt\n",
    "import seaborn as sns\n",
    "\n",
    "with plt.style.context('ggplot'):\n",
    "    pal = sns.color_palette(\"Set1\", 2)\n",
    "    plt.figure(figsize=(12, 6))\n",
    "    plt.plot(k_array, user_train_mse, c=pal[0], label='User-based train', alpha=0.5, linewidth=5)\n",
    "    plt.plot(k_array, user_test_mse, c=pal[0], label='User-based test', linewidth=5)\n",
    "    plt.plot(k_array, item_train_mse, c=pal[1], label='Item-based train', alpha=0.5, linewidth=5)\n",
    "    plt.plot(k_array, item_test_mse, c=pal[1], label='Item-based test', linewidth=5)\n",
    "    plt.legend(loc='best', fontsize=14)\n",
    "    plt.title('MSE based on the choice of k neighbors:')\n",
    "    plt.xlabel('k', fontsize=14);\n",
    "    plt.ylabel('MSE', fontsize=14);\n",
    "    plt.show()"
   ]
  },
  {
   "cell_type": "code",
   "execution_count": 37,
   "metadata": {},
   "outputs": [
    {
     "name": "stdout",
     "output_type": "stream",
     "text": [
      "Watched movies:\n",
      "--------------------------------------------------\n",
      "Star Wars: Episode IV - A New Hope (1977)\n",
      "Silence of the Lambs, The (1991)\n",
      "Monty Python and the Holy Grail (1975)\n",
      "Star Wars: Episode VI - Return of the Jedi (1983)\n",
      "Edward Scissorhands (1990)\n",
      "Green Mile, The (1999)\n",
      "Wolf of Wall Street, The (2013)\n",
      "Mad Max: Fury Road (2015)\n",
      "Harry Potter and the Sorcerer's Stone (a.k.a. Harry Potter and the Philosopher's Stone) (2001)\n",
      "Shrek (2001)\n",
      "Spider-Man (2002)\n",
      "Harry Potter and the Chamber of Secrets (2002)\n",
      "Harry Potter and the Prisoner of Azkaban (2004)\n",
      "Spider-Man 2 (2004)\n",
      "Incredibles, The (2004)\n",
      "Finding Nemo (2003)\n",
      "Harry Potter and the Half-Blood Prince (2009)\n",
      "Amazing Spider-Man, The (2012)\n",
      "WALL·E (2008)\n",
      "Star Wars: Episode VII - The Force Awakens (2015)\n",
      "Deadpool (2016)\n",
      "Zootopia (2016)\n",
      "Scott Pilgrim vs. the World (2010)\n",
      "Harry Potter and the Goblet of Fire (2005)\n",
      "Harry Potter and the Deathly Hallows: Part 1 (2010)\n",
      "Harry Potter and the Deathly Hallows: Part 2 (2011)\n",
      "Harry Potter and the Order of the Phoenix (2007)\n",
      "Spider-Man 3 (2007)\n",
      "Dope (2015)\n",
      "Deathgasm (2015)\n",
      "A Street Cat Named Bob (2016)\n"
     ]
    }
   ],
   "source": [
    "print('Watched movies:')\n",
    "print('-'*50)\n",
    "for movie in rated_movies:\n",
    "    print(id_to_title[movie+1])"
   ]
  },
  {
   "cell_type": "markdown",
   "metadata": {},
   "source": [
    "Lets sample a the top 10 recommandations for the same user as for content based recommandations."
   ]
  },
  {
   "cell_type": "markdown",
   "metadata": {},
   "source": [
    "#### Item similarity based recommandations"
   ]
  },
  {
   "cell_type": "code",
   "execution_count": 38,
   "metadata": {},
   "outputs": [
    {
     "name": "stdout",
     "output_type": "stream",
     "text": [
      "Item based based recommandations:\n",
      "--------------------------------------------------\n",
      "Birth (2004)\n",
      "I, Robot (2004)\n",
      "Kung Fu Hustle (Gong fu) (2004)\n",
      "He's Just Not That Into You (2009)\n",
      "Crimson Rivers 2: Angels of the Apocalypse (Rivières pourpres II - Les anges de l'apocalypse, Les) (2004)\n",
      "Monty Python's The Meaning of Life (1983)\n",
      "Chicago (2002)\n",
      "American Pie Presents The Naked Mile (American Pie 5: The Naked Mile) (2006)\n",
      "Predator 2 (1990)\n",
      "300 (2007)\n"
     ]
    }
   ],
   "source": [
    "top_n_item = np.argsort(item_prediction[user, no_ratings[user, :]])[:-11:-1]\n",
    "\n",
    "print('Item based based recommandations:')\n",
    "print('-'*50)\n",
    "for movie in top_n_item:\n",
    "    print(id_to_title[movie+1])"
   ]
  },
  {
   "cell_type": "code",
   "execution_count": 39,
   "metadata": {},
   "outputs": [
    {
     "data": {
      "text/html": [
       "<img src=\"http://image.tmdb.org/t/p/w185/d1X24rSfYIaQbjHhlOfOK7zDRtg.jpg\"/>"
      ],
      "text/plain": [
       "<IPython.core.display.Image object>"
      ]
     },
     "metadata": {},
     "output_type": "display_data"
    },
    {
     "data": {
      "text/html": [
       "<img src=\"http://image.tmdb.org/t/p/w185/2mkFzf168xJrV6Leqq0bjqOlJCK.jpg\"/>"
      ],
      "text/plain": [
       "<IPython.core.display.Image object>"
      ]
     },
     "metadata": {},
     "output_type": "display_data"
    },
    {
     "data": {
      "text/html": [
       "<img src=\"http://image.tmdb.org/t/p/w185/dZsfDrNLGWgsIUQL1vGhl8tbnqY.jpg\"/>"
      ],
      "text/plain": [
       "<IPython.core.display.Image object>"
      ]
     },
     "metadata": {},
     "output_type": "display_data"
    },
    {
     "data": {
      "text/html": [
       "<img src=\"http://image.tmdb.org/t/p/w185/ruc33YnCrmCL8PHdPQVzfa4shWX.jpg\"/>"
      ],
      "text/plain": [
       "<IPython.core.display.Image object>"
      ]
     },
     "metadata": {},
     "output_type": "display_data"
    },
    {
     "data": {
      "text/html": [
       "<img src=\"http://image.tmdb.org/t/p/w185/briMmEYbfyuIbrCsFSDVZ10iNI3.jpg\"/>"
      ],
      "text/plain": [
       "<IPython.core.display.Image object>"
      ]
     },
     "metadata": {},
     "output_type": "display_data"
    },
    {
     "data": {
      "text/html": [
       "<img src=\"http://image.tmdb.org/t/p/w185/uCdQLoSQYJXrH3HvwNOJp5ing6q.jpg\"/>"
      ],
      "text/plain": [
       "<IPython.core.display.Image object>"
      ]
     },
     "metadata": {},
     "output_type": "display_data"
    },
    {
     "data": {
      "text/html": [
       "<img src=\"http://image.tmdb.org/t/p/w185/18pCc2XZ5MO7wsywOYEbhoeuxNw.jpg\"/>"
      ],
      "text/plain": [
       "<IPython.core.display.Image object>"
      ]
     },
     "metadata": {},
     "output_type": "display_data"
    },
    {
     "data": {
      "text/html": [
       "<img src=\"http://image.tmdb.org/t/p/w185/nEw4DINRiugLvuJ3Iy3uPTRaXw6.jpg\"/>"
      ],
      "text/plain": [
       "<IPython.core.display.Image object>"
      ]
     },
     "metadata": {},
     "output_type": "display_data"
    },
    {
     "data": {
      "text/html": [
       "<img src=\"http://image.tmdb.org/t/p/w185/4cAQgbIPislEeBJahLO5BsqAUZN.jpg\"/>"
      ],
      "text/plain": [
       "<IPython.core.display.Image object>"
      ]
     },
     "metadata": {},
     "output_type": "display_data"
    },
    {
     "data": {
      "text/html": [
       "<img src=\"http://image.tmdb.org/t/p/w185/bYR8O1H1ZlME7Dm9ysfTYZnRDpw.jpg\"/>"
      ],
      "text/plain": [
       "<IPython.core.display.Image object>"
      ]
     },
     "metadata": {},
     "output_type": "display_data"
    }
   ],
   "source": [
    "recommended_movies = tuple(Image(url=get_poster(movie, base_url)) for movie in top_n_item)\n",
    "display(*recommended_movies)"
   ]
  },
  {
   "cell_type": "markdown",
   "metadata": {},
   "source": [
    "#### User similarity based recommandations:"
   ]
  },
  {
   "cell_type": "code",
   "execution_count": 40,
   "metadata": {},
   "outputs": [
    {
     "name": "stdout",
     "output_type": "stream",
     "text": [
      "User based recommandations:\n",
      "--------------------------------------------------\n",
      "Ocean's Eleven (2001)\n",
      "20 Dates (1998)\n",
      "Enemy at the Gates (2001)\n",
      "Spirited Away (Sen to Chihiro no kamikakushi) (2001)\n",
      "300 (2007)\n",
      "E.T. the Extra-Terrestrial (1982)\n",
      "Minority Report (2002)\n",
      "Clear and Present Danger (1994)\n",
      "Big Trouble in Little China (1986)\n",
      "Kill Bill: Vol. 2 (2004)\n"
     ]
    }
   ],
   "source": [
    "top_n_user = np.argsort(user_prediction[user, no_ratings[user, :]])[:-11:-1]\n",
    "\n",
    "print('User based recommandations:')\n",
    "print('-'*50)\n",
    "for movie in top_n_user:\n",
    "    print(id_to_title[movie+1])"
   ]
  },
  {
   "cell_type": "code",
   "execution_count": 41,
   "metadata": {},
   "outputs": [
    {
     "data": {
      "text/html": [
       "<img src=\"http://image.tmdb.org/t/p/w185/o0h76DVXvk5OKjmNez5YY0GODC2.jpg\"/>"
      ],
      "text/plain": [
       "<IPython.core.display.Image object>"
      ]
     },
     "metadata": {},
     "output_type": "display_data"
    },
    {
     "data": {
      "text/html": [
       "<img src=\"http://image.tmdb.org/t/p/w185/9VpMRZCUtfdCg47I2uI8EgYorLg.jpg\"/>"
      ],
      "text/plain": [
       "<IPython.core.display.Image object>"
      ]
     },
     "metadata": {},
     "output_type": "display_data"
    },
    {
     "data": {
      "text/html": [
       "<img src=\"http://image.tmdb.org/t/p/w185/9cSoNnB31hGY2mL78VT8mAbz6nR.jpg\"/>"
      ],
      "text/plain": [
       "<IPython.core.display.Image object>"
      ]
     },
     "metadata": {},
     "output_type": "display_data"
    },
    {
     "data": {
      "text/html": [
       "<img src=\"http://image.tmdb.org/t/p/w185/oRvMaJOmapypFUcQqpgHMZA6qL9.jpg\"/>"
      ],
      "text/plain": [
       "<IPython.core.display.Image object>"
      ]
     },
     "metadata": {},
     "output_type": "display_data"
    },
    {
     "data": {
      "text/html": [
       "<img src=\"http://image.tmdb.org/t/p/w185/bYR8O1H1ZlME7Dm9ysfTYZnRDpw.jpg\"/>"
      ],
      "text/plain": [
       "<IPython.core.display.Image object>"
      ]
     },
     "metadata": {},
     "output_type": "display_data"
    },
    {
     "data": {
      "text/html": [
       "<img src=\"http://image.tmdb.org/t/p/w185/vEaHlJljhYqYjMc7HmNEOoq3UlU.jpg\"/>"
      ],
      "text/plain": [
       "<IPython.core.display.Image object>"
      ]
     },
     "metadata": {},
     "output_type": "display_data"
    },
    {
     "data": {
      "text/html": [
       "<img src=\"http://image.tmdb.org/t/p/w185/dS5AHLt4DhZpisxryIxKJU6Urxb.jpg\"/>"
      ],
      "text/plain": [
       "<IPython.core.display.Image object>"
      ]
     },
     "metadata": {},
     "output_type": "display_data"
    },
    {
     "data": {
      "text/html": [
       "<img src=\"http://image.tmdb.org/t/p/w185/avRDucB3FLf1Xz5532hbOYd1giX.jpg\"/>"
      ],
      "text/plain": [
       "<IPython.core.display.Image object>"
      ]
     },
     "metadata": {},
     "output_type": "display_data"
    },
    {
     "data": {
      "text/html": [
       "<img src=\"http://image.tmdb.org/t/p/w185/yorjHTeWauQd81QeWoqMAHXAcCj.jpg\"/>"
      ],
      "text/plain": [
       "<IPython.core.display.Image object>"
      ]
     },
     "metadata": {},
     "output_type": "display_data"
    },
    {
     "data": {
      "text/html": [
       "<img src=\"http://image.tmdb.org/t/p/w185/2yhg0mZQMhDyvUQ4rG1IZ4oIA8L.jpg\"/>"
      ],
      "text/plain": [
       "<IPython.core.display.Image object>"
      ]
     },
     "metadata": {},
     "output_type": "display_data"
    }
   ],
   "source": [
    "recommended_movies = tuple(Image(url=get_poster(movie, base_url)) for movie in top_n_user)\n",
    "display(*recommended_movies)"
   ]
  },
  {
   "cell_type": "markdown",
   "metadata": {},
   "source": [
    "Memory-based algorithms are easy to implement and produce reasonable prediction quality. The drawback of memory-based CF is that it doesn't scale to real-world scenarios and doesn't address the well-known cold-start problem, that is when new user or new item enters the system. Model-based CF methods are scalable and can deal with higher sparsity level than memory-based models."
   ]
  },
  {
   "cell_type": "markdown",
   "metadata": {},
   "source": [
    "## 2.) Model based approach\n",
    "\n",
    "Model-based recommendation systems involve building a model based on the dataset of ratings. In other words, we extract some information from the dataset, and use that as a \"model\" to make recommendations without having to use the complete dataset every time. This approach potentially offers the benefits of both speed and scalability. I won't be able to go into a lot of detail but one of the methods model based approaches use is matrix factorization. I'll make sure to leave links to a couple of very good reasources that explain how matrix factorization works but for now I'll only show you how to implement SVD using the __surprise__ library.\n",
    "\n",
    "_Sidenote: A collection of great resources on matrix factorization:_\n",
    " - http://nicolas-hug.com/blog/matrix_facto_1\n",
    " - https://lazyprogrammer.me/tutorial-on-collaborative-filtering-and-matrix-factorization-in-python/"
   ]
  },
  {
   "cell_type": "code",
   "execution_count": 42,
   "metadata": {},
   "outputs": [],
   "source": [
    "from surprise import Reader, Dataset\n",
    "\n",
    "# The Reader class is used to parse a file containing ratings.\n",
    "reader = Reader(rating_scale=(0.5, 5.0))\n",
    "\n",
    "# The columns must correspond to user id, item id and ratings (in that order).\n",
    "sparse_data = Dataset.load_from_df(data[['userId', 'movieId', 'rating']], reader)"
   ]
  },
  {
   "cell_type": "code",
   "execution_count": 43,
   "metadata": {},
   "outputs": [],
   "source": [
    "def get_top_n(predictions, n=10):\n",
    "    '''Return the top-N recommendation for each user from a set of predictions.'''\n",
    "\n",
    "    # First map the predictions to each user.\n",
    "    top_n = defaultdict(list)\n",
    "    for uid, iid, true_r, est, _ in predictions:\n",
    "        top_n[uid].append((iid, est))\n",
    "\n",
    "    # Then sort the predictions for each user and retrieve the k highest ones.\n",
    "    for uid, user_ratings in top_n.items():\n",
    "        user_ratings.sort(key=lambda x: x[1], reverse=True)\n",
    "        top_n[uid] = user_ratings[:n]\n",
    "\n",
    "    return top_n"
   ]
  },
  {
   "cell_type": "code",
   "execution_count": 44,
   "metadata": {},
   "outputs": [],
   "source": [
    "from collections import defaultdict\n",
    "from surprise.model_selection import cross_validate\n",
    "from surprise import SVD\n",
    "\n",
    "# First train an SVD algorithm on the movielens dataset.\n",
    "trainset = sparse_data.build_full_trainset()\n",
    "algo = SVD()\n",
    "algo.fit(trainset)\n",
    "\n",
    "# Than predict ratings for all pairs (u, i) that are NOT in the training set.\n",
    "testset = trainset.build_anti_testset()\n",
    "predictions = algo.test(testset)\n",
    "\n",
    "top_n = get_top_n(predictions, n=10)"
   ]
  },
  {
   "cell_type": "code",
   "execution_count": 45,
   "metadata": {},
   "outputs": [
    {
     "name": "stdout",
     "output_type": "stream",
     "text": [
      "Model based recommandations:\n",
      "--------------------------------------------------\n",
      "Amelie (Fabuleux destin d'Amélie Poulain, Le) (2001)\n",
      "Young Frankenstein (1974)\n",
      "Planet of the Apes (1968)\n",
      "Dark Knight, The (2008)\n",
      "In the Name of the Father (1993)\n",
      "Shining, The (1980)\n",
      "Truman Show, The (1998)\n",
      "Blade Runner (1982)\n",
      "Lawrence of Arabia (1962)\n",
      "Shawshank Redemption, The (1994)\n"
     ]
    }
   ],
   "source": [
    "# Print the recommended items for each user\n",
    "print('Model based recommandations:')\n",
    "print('-'*50)\n",
    "svd_recommandations = top_n[user]\n",
    "for movie, rating in svd_recommandations:\n",
    "    print(id_to_title[movie])"
   ]
  },
  {
   "cell_type": "code",
   "execution_count": 46,
   "metadata": {},
   "outputs": [
    {
     "data": {
      "text/html": [
       "<img src=\"http://image.tmdb.org/t/p/w185/tDOzV7CeC1PplhmNTxbTq4uCxt6.jpg\"/>"
      ],
      "text/plain": [
       "<IPython.core.display.Image object>"
      ]
     },
     "metadata": {},
     "output_type": "display_data"
    },
    {
     "data": {
      "text/html": [
       "<img src=\"http://image.tmdb.org/t/p/w185/mcWjO3hRbOSAep1vilOxoJoHkn1.jpg\"/>"
      ],
      "text/plain": [
       "<IPython.core.display.Image object>"
      ]
     },
     "metadata": {},
     "output_type": "display_data"
    },
    {
     "data": {
      "text/html": [
       "<img src=\"http://image.tmdb.org/t/p/w185/planKEBXy2g2U8mVRtygX2EWayb.jpg\"/>"
      ],
      "text/plain": [
       "<IPython.core.display.Image object>"
      ]
     },
     "metadata": {},
     "output_type": "display_data"
    },
    {
     "data": {
      "text/html": [
       "<img src=\"http://image.tmdb.org/t/p/w185/1hRoyzDtpgMU7Dz4JF22RANzQO7.jpg\"/>"
      ],
      "text/plain": [
       "<IPython.core.display.Image object>"
      ]
     },
     "metadata": {},
     "output_type": "display_data"
    },
    {
     "data": {
      "text/html": [
       "<img src=\"http://image.tmdb.org/t/p/w185/22UfH59UppgMtDIMjD6DxhO8J2C.jpg\"/>"
      ],
      "text/plain": [
       "<IPython.core.display.Image object>"
      ]
     },
     "metadata": {},
     "output_type": "display_data"
    },
    {
     "data": {
      "text/html": [
       "<img src=\"http://image.tmdb.org/t/p/w185/b6ko0IKC8MdYBBPkkA1aBPLe2yz.jpg\"/>"
      ],
      "text/plain": [
       "<IPython.core.display.Image object>"
      ]
     },
     "metadata": {},
     "output_type": "display_data"
    },
    {
     "data": {
      "text/html": [
       "<img src=\"http://image.tmdb.org/t/p/w185/xfDE8sCllNX8qjSi0KMluvscxss.jpg\"/>"
      ],
      "text/plain": [
       "<IPython.core.display.Image object>"
      ]
     },
     "metadata": {},
     "output_type": "display_data"
    },
    {
     "data": {
      "text/html": [
       "<img src=\"http://image.tmdb.org/t/p/w185/luwQrj9C19G3T6pyZM8dNgF12V.jpg\"/>"
      ],
      "text/plain": [
       "<IPython.core.display.Image object>"
      ]
     },
     "metadata": {},
     "output_type": "display_data"
    },
    {
     "data": {
      "text/html": [
       "<img src=\"http://image.tmdb.org/t/p/w185/j21UXCOq0EbV8EPTtmPn1CGePfB.jpg\"/>"
      ],
      "text/plain": [
       "<IPython.core.display.Image object>"
      ]
     },
     "metadata": {},
     "output_type": "display_data"
    },
    {
     "data": {
      "text/html": [
       "<img src=\"http://image.tmdb.org/t/p/w185/zGINvGjdlO6TJRu9wESQvWlOKVT.jpg\"/>"
      ],
      "text/plain": [
       "<IPython.core.display.Image object>"
      ]
     },
     "metadata": {},
     "output_type": "display_data"
    }
   ],
   "source": [
    "recommanded_movies = tuple(Image(url=get_poster(movie-1, base_url)) for movie, rating in svd_recommandations)\n",
    "display(*recommanded_movies)"
   ]
  },
  {
   "cell_type": "markdown",
   "metadata": {},
   "source": [
    "# Sources:"
   ]
  },
  {
   "cell_type": "markdown",
   "metadata": {},
   "source": [
    "A collection of great resources I have used for putting together this notebook:\n",
    "    \n",
    "1.) Ethan Rosenthal's blog:\n",
    " - https://www.ethanrosenthal.com/2015/11/02/intro-to-collaborative-filtering/#Top-$k$-Collaborative-Filtering\n",
    " \n",
    "2.) suprise: an easy-to-use Python scikit for recommender systems\n",
    "\n",
    "- https://surprise.readthedocs.io/en/stable/getting_started.html#getting-started"
   ]
  },
  {
   "cell_type": "markdown",
   "metadata": {},
   "source": [
    "# System and python details:"
   ]
  },
  {
   "cell_type": "code",
   "execution_count": 80,
   "metadata": {},
   "outputs": [
    {
     "name": "stdout",
     "output_type": "stream",
     "text": [
      "CPython 3.6.6\n",
      "IPython 6.4.0\n",
      "\n",
      "pandas 0.23.4\n",
      "numpy 1.14.5\n",
      "matplotlib 2.2.2\n",
      "seaborn 0.9.0\n",
      "requests 2.19.1\n",
      "json 2.0.9\n",
      "\n",
      "compiler   : GCC 7.2.0\n",
      "system     : Linux\n",
      "release    : 3.10.0-693.2.2.el7.x86_64\n",
      "machine    : x86_64\n",
      "processor  : x86_64\n",
      "CPU cores  : 32\n",
      "interpreter: 64bit\n"
     ]
    }
   ],
   "source": [
    "%watermark -p pandas,numpy,matplotlib,seaborn,requests,json -m -v"
   ]
  }
 ],
 "metadata": {
  "kernelspec": {
   "display_name": "Python 3",
   "language": "python",
   "name": "python3"
  },
  "language_info": {
   "codemirror_mode": {
    "name": "ipython",
    "version": 3
   },
   "file_extension": ".py",
   "mimetype": "text/x-python",
   "name": "python",
   "nbconvert_exporter": "python",
   "pygments_lexer": "ipython3",
   "version": "3.6.6"
  }
 },
 "nbformat": 4,
 "nbformat_minor": 2
}
